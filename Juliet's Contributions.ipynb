{
 "cells": [
  {
   "cell_type": "markdown",
   "id": "5b6de38a",
   "metadata": {},
   "source": [
    "# Import the Dataset"
   ]
  },
  {
   "cell_type": "code",
   "execution_count": 57,
   "id": "255ff638",
   "metadata": {},
   "outputs": [
    {
     "data": {
      "text/html": [
       "<div>\n",
       "<style scoped>\n",
       "    .dataframe tbody tr th:only-of-type {\n",
       "        vertical-align: middle;\n",
       "    }\n",
       "\n",
       "    .dataframe tbody tr th {\n",
       "        vertical-align: top;\n",
       "    }\n",
       "\n",
       "    .dataframe thead th {\n",
       "        text-align: right;\n",
       "    }\n",
       "</style>\n",
       "<table border=\"1\" class=\"dataframe\">\n",
       "  <thead>\n",
       "    <tr style=\"text-align: right;\">\n",
       "      <th></th>\n",
       "      <th>Movie Name</th>\n",
       "      <th>Vote Average</th>\n",
       "      <th>Vote Count</th>\n",
       "      <th>Production Companies</th>\n",
       "      <th>Revenue</th>\n",
       "      <th>Year of Release</th>\n",
       "      <th>Movie Rating</th>\n",
       "      <th>Votes</th>\n",
       "      <th>Gross</th>\n",
       "      <th>Genre</th>\n",
       "      <th>Certification</th>\n",
       "      <th>Director</th>\n",
       "    </tr>\n",
       "  </thead>\n",
       "  <tbody>\n",
       "    <tr>\n",
       "      <th>0</th>\n",
       "      <td>Mother's Day</td>\n",
       "      <td>6.0</td>\n",
       "      <td>94</td>\n",
       "      <td>['Akson Studio']</td>\n",
       "      <td>0</td>\n",
       "      <td>2016.0</td>\n",
       "      <td>5.6</td>\n",
       "      <td>38894.0</td>\n",
       "      <td>32460000.0</td>\n",
       "      <td>['Comedy', ' Drama', ' Romance']</td>\n",
       "      <td>PG-13</td>\n",
       "      <td>['Garry Marshall']</td>\n",
       "    </tr>\n",
       "    <tr>\n",
       "      <th>1</th>\n",
       "      <td>Spider-Man: Into the Spider-Verse</td>\n",
       "      <td>8.4</td>\n",
       "      <td>13081</td>\n",
       "      <td>['Columbia Pictures', 'Lord Miller', 'Pascal P...</td>\n",
       "      <td>375464627</td>\n",
       "      <td>2018.0</td>\n",
       "      <td>8.4</td>\n",
       "      <td>632177.0</td>\n",
       "      <td>190240000.0</td>\n",
       "      <td>['Animation', ' Action', ' Adventure']</td>\n",
       "      <td>PG</td>\n",
       "      <td>['Bob Persichetti', 'Peter Ramsey', 'Rodney Ro...</td>\n",
       "    </tr>\n",
       "    <tr>\n",
       "      <th>2</th>\n",
       "      <td>Transformers: Age of Extinction</td>\n",
       "      <td>5.9</td>\n",
       "      <td>7359</td>\n",
       "      <td>['di Bonaventura Pictures', 'Tom DeSanto/Don M...</td>\n",
       "      <td>1104054072</td>\n",
       "      <td>2014.0</td>\n",
       "      <td>5.6</td>\n",
       "      <td>326960.0</td>\n",
       "      <td>245440000.0</td>\n",
       "      <td>['Action', ' Adventure', ' Sci-Fi']</td>\n",
       "      <td>PG-13</td>\n",
       "      <td>['Michael Bay']</td>\n",
       "    </tr>\n",
       "    <tr>\n",
       "      <th>3</th>\n",
       "      <td>Transformers: The Last Knight</td>\n",
       "      <td>6.1</td>\n",
       "      <td>5548</td>\n",
       "      <td>['Paramount', 'di Bonaventura Pictures', 'Ian ...</td>\n",
       "      <td>605425157</td>\n",
       "      <td>2017.0</td>\n",
       "      <td>5.2</td>\n",
       "      <td>164230.0</td>\n",
       "      <td>130170000.0</td>\n",
       "      <td>['Action', ' Adventure', ' Sci-Fi']</td>\n",
       "      <td>PG-13</td>\n",
       "      <td>['Michael Bay']</td>\n",
       "    </tr>\n",
       "    <tr>\n",
       "      <th>4</th>\n",
       "      <td>Guardians of the Galaxy Vol. 2</td>\n",
       "      <td>7.6</td>\n",
       "      <td>19898</td>\n",
       "      <td>['Marvel Studios']</td>\n",
       "      <td>863756051</td>\n",
       "      <td>2017.0</td>\n",
       "      <td>7.6</td>\n",
       "      <td>736895.0</td>\n",
       "      <td>389810000.0</td>\n",
       "      <td>['Action', ' Adventure', ' Comedy']</td>\n",
       "      <td>PG-13</td>\n",
       "      <td>['James Gunn']</td>\n",
       "    </tr>\n",
       "  </tbody>\n",
       "</table>\n",
       "</div>"
      ],
      "text/plain": [
       "                          Movie Name  Vote Average  Vote Count  \\\n",
       "0                       Mother's Day           6.0          94   \n",
       "1  Spider-Man: Into the Spider-Verse           8.4       13081   \n",
       "2    Transformers: Age of Extinction           5.9        7359   \n",
       "3      Transformers: The Last Knight           6.1        5548   \n",
       "4     Guardians of the Galaxy Vol. 2           7.6       19898   \n",
       "\n",
       "                                Production Companies     Revenue  \\\n",
       "0                                   ['Akson Studio']           0   \n",
       "1  ['Columbia Pictures', 'Lord Miller', 'Pascal P...   375464627   \n",
       "2  ['di Bonaventura Pictures', 'Tom DeSanto/Don M...  1104054072   \n",
       "3  ['Paramount', 'di Bonaventura Pictures', 'Ian ...   605425157   \n",
       "4                                 ['Marvel Studios']   863756051   \n",
       "\n",
       "   Year of Release  Movie Rating     Votes        Gross  \\\n",
       "0           2016.0           5.6   38894.0   32460000.0   \n",
       "1           2018.0           8.4  632177.0  190240000.0   \n",
       "2           2014.0           5.6  326960.0  245440000.0   \n",
       "3           2017.0           5.2  164230.0  130170000.0   \n",
       "4           2017.0           7.6  736895.0  389810000.0   \n",
       "\n",
       "                                    Genre Certification  \\\n",
       "0        ['Comedy', ' Drama', ' Romance']         PG-13   \n",
       "1  ['Animation', ' Action', ' Adventure']            PG   \n",
       "2     ['Action', ' Adventure', ' Sci-Fi']         PG-13   \n",
       "3     ['Action', ' Adventure', ' Sci-Fi']         PG-13   \n",
       "4     ['Action', ' Adventure', ' Comedy']         PG-13   \n",
       "\n",
       "                                            Director  \n",
       "0                                 ['Garry Marshall']  \n",
       "1  ['Bob Persichetti', 'Peter Ramsey', 'Rodney Ro...  \n",
       "2                                    ['Michael Bay']  \n",
       "3                                    ['Michael Bay']  \n",
       "4                                     ['James Gunn']  "
      ]
     },
     "execution_count": 57,
     "metadata": {},
     "output_type": "execute_result"
    }
   ],
   "source": [
    "# Dependencies\n",
    "import pandas as pd\n",
    "from pathlib import Path\n",
    "from ast import literal_eval\n",
    "\n",
    "# Filtered Dataset\n",
    "filtered_data = Path(\"Datasets/filtered_data.csv\")\n",
    "filtered_df = pd.read_csv(filtered_data)\n",
    "filtered_df.head()\n"
   ]
  },
  {
   "cell_type": "code",
   "execution_count": 58,
   "id": "be43c715",
   "metadata": {},
   "outputs": [
    {
     "name": "stdout",
     "output_type": "stream",
     "text": [
      "There are 1384 Movies in our data set\n"
     ]
    }
   ],
   "source": [
    "# Number of movies in our data set\n",
    "print(f\"There are {filtered_df['Movie Name'].count()} Movies in our data set\")"
   ]
  },
  {
   "cell_type": "markdown",
   "id": "b14fc0c2",
   "metadata": {},
   "source": [
    "# Examine Net Revenue"
   ]
  },
  {
   "cell_type": "code",
   "execution_count": 59,
   "id": "8c600aa6",
   "metadata": {},
   "outputs": [
    {
     "data": {
      "text/html": [
       "<div>\n",
       "<style scoped>\n",
       "    .dataframe tbody tr th:only-of-type {\n",
       "        vertical-align: middle;\n",
       "    }\n",
       "\n",
       "    .dataframe tbody tr th {\n",
       "        vertical-align: top;\n",
       "    }\n",
       "\n",
       "    .dataframe thead th {\n",
       "        text-align: right;\n",
       "    }\n",
       "</style>\n",
       "<table border=\"1\" class=\"dataframe\">\n",
       "  <thead>\n",
       "    <tr style=\"text-align: right;\">\n",
       "      <th></th>\n",
       "      <th>Movie Name</th>\n",
       "      <th>Revenue</th>\n",
       "      <th>Movie Rating</th>\n",
       "    </tr>\n",
       "  </thead>\n",
       "  <tbody>\n",
       "    <tr>\n",
       "      <th>0</th>\n",
       "      <td>Mother's Day</td>\n",
       "      <td>0</td>\n",
       "      <td>5.6</td>\n",
       "    </tr>\n",
       "    <tr>\n",
       "      <th>1</th>\n",
       "      <td>Spider-Man: Into the Spider-Verse</td>\n",
       "      <td>375464627</td>\n",
       "      <td>8.4</td>\n",
       "    </tr>\n",
       "    <tr>\n",
       "      <th>2</th>\n",
       "      <td>Transformers: Age of Extinction</td>\n",
       "      <td>1104054072</td>\n",
       "      <td>5.6</td>\n",
       "    </tr>\n",
       "    <tr>\n",
       "      <th>3</th>\n",
       "      <td>Transformers: The Last Knight</td>\n",
       "      <td>605425157</td>\n",
       "      <td>5.2</td>\n",
       "    </tr>\n",
       "    <tr>\n",
       "      <th>4</th>\n",
       "      <td>Guardians of the Galaxy Vol. 2</td>\n",
       "      <td>863756051</td>\n",
       "      <td>7.6</td>\n",
       "    </tr>\n",
       "  </tbody>\n",
       "</table>\n",
       "</div>"
      ],
      "text/plain": [
       "                          Movie Name     Revenue  Movie Rating\n",
       "0                       Mother's Day           0           5.6\n",
       "1  Spider-Man: Into the Spider-Verse   375464627           8.4\n",
       "2    Transformers: Age of Extinction  1104054072           5.6\n",
       "3      Transformers: The Last Knight   605425157           5.2\n",
       "4     Guardians of the Galaxy Vol. 2   863756051           7.6"
      ]
     },
     "execution_count": 59,
     "metadata": {},
     "output_type": "execute_result"
    }
   ],
   "source": [
    "# Refine results to only relevant data\n",
    "rev_df = filtered_df[[\"Movie Name\", \"Revenue\", \"Movie Rating\"]]\n",
    "rev_df.head()"
   ]
  },
  {
   "cell_type": "code",
   "execution_count": 60,
   "id": "6b62368a",
   "metadata": {},
   "outputs": [
    {
     "name": "stdout",
     "output_type": "stream",
     "text": [
      "Correlation coefficient: 0.23456630676624393\n"
     ]
    }
   ],
   "source": [
    "#Find correlation\n",
    "correlation = rev_df[['Revenue', 'Movie Rating']].corr()\n",
    "c_cf = correlation.loc['Revenue', 'Movie Rating']\n",
    "print(f\"Correlation coefficient: {c_cf}\")"
   ]
  },
  {
   "cell_type": "code",
   "execution_count": 61,
   "id": "acf8ecce",
   "metadata": {},
   "outputs": [],
   "source": [
    "# Import dependencies\n",
    "import matplotlib.pyplot as plt\n",
    "import pandas as pd\n",
    "import numpy as np"
   ]
  },
  {
   "cell_type": "code",
   "execution_count": 62,
   "id": "41f821da",
   "metadata": {},
   "outputs": [
    {
     "data": {
      "image/png": "[encoded data removed]",
      "text/plain": [
       "<Figure size 800x800 with 1 Axes>"
      ]
     },
     "metadata": {},
     "output_type": "display_data"
    }
   ],
   "source": [
    "# Make a scatter plot\n",
    "rev_df.plot(kind=\"scatter\", x=\"Movie Rating\", y=\"Revenue\", grid=True, figsize=(8,8),\n",
    "              title=\"Impact of Net Revenue on Critical Acclaim\")\n",
    "plt.show()"
   ]
  },
  {
   "cell_type": "code",
   "execution_count": 63,
   "id": "80820843",
   "metadata": {},
   "outputs": [],
   "source": [
    "# Statistical Analysis\n",
    "rev_quartiles = rev_df[\"Revenue\"].quantile([.25,.5,.75])\n",
    "rev_lowerq = rev_quartiles[.25]\n",
    "rev_upperq = rev_quartiles[.75]\n",
    "rev_iqr = rev_upperq - rev_lowerq\n"
   ]
  },
  {
   "cell_type": "code",
   "execution_count": 64,
   "id": "eee6895b",
   "metadata": {},
   "outputs": [
    {
     "name": "stdout",
     "output_type": "stream",
     "text": [
      "The lower quartile of Net revenue is: 17546224.25\n",
      "The upper quartile of Net revenue is: 190328618.25\n",
      "The interquartile range of Net revenue is: 172782394.0\n",
      "The the median of Net revenue is: 71462585.0 \n"
     ]
    }
   ],
   "source": [
    "# Print results\n",
    "print(f\"The lower quartile of Net revenue is: {rev_lowerq}\")\n",
    "print(f\"The upper quartile of Net revenue is: {rev_upperq}\")\n",
    "print(f\"The interquartile range of Net revenue is: {rev_iqr}\")\n",
    "print(f\"The the median of Net revenue is: {rev_quartiles[0.5]} \")"
   ]
  },
  {
   "cell_type": "code",
   "execution_count": 65,
   "id": "5c9cbc2d",
   "metadata": {},
   "outputs": [
    {
     "name": "stdout",
     "output_type": "stream",
     "text": [
      "Net Revenue below -241627366.75 could be outliers.\n",
      "Net Revenue above 449502209.25 could be outliers.\n"
     ]
    }
   ],
   "source": [
    "# Find potential outliers range\n",
    "rev_lower_bound = rev_lowerq - (1.5*rev_iqr)\n",
    "rev_upper_bound = rev_upperq + (1.5*rev_iqr)\n",
    "print(f\"Net Revenue below {rev_lower_bound} could be outliers.\")\n",
    "print(f\"Net Revenue above {rev_upper_bound} could be outliers.\")"
   ]
  },
  {
   "cell_type": "code",
   "execution_count": 66,
   "id": "4f250f55",
   "metadata": {},
   "outputs": [
    {
     "data": {
      "text/html": [
       "<div>\n",
       "<style scoped>\n",
       "    .dataframe tbody tr th:only-of-type {\n",
       "        vertical-align: middle;\n",
       "    }\n",
       "\n",
       "    .dataframe tbody tr th {\n",
       "        vertical-align: top;\n",
       "    }\n",
       "\n",
       "    .dataframe thead th {\n",
       "        text-align: right;\n",
       "    }\n",
       "</style>\n",
       "<table border=\"1\" class=\"dataframe\">\n",
       "  <thead>\n",
       "    <tr style=\"text-align: right;\">\n",
       "      <th></th>\n",
       "      <th>Movie Name</th>\n",
       "      <th>Revenue</th>\n",
       "      <th>Movie Rating</th>\n",
       "    </tr>\n",
       "  </thead>\n",
       "  <tbody>\n",
       "    <tr>\n",
       "      <th>2</th>\n",
       "      <td>Transformers: Age of Extinction</td>\n",
       "      <td>1104054072</td>\n",
       "      <td>5.6</td>\n",
       "    </tr>\n",
       "    <tr>\n",
       "      <th>3</th>\n",
       "      <td>Transformers: The Last Knight</td>\n",
       "      <td>605425157</td>\n",
       "      <td>5.2</td>\n",
       "    </tr>\n",
       "    <tr>\n",
       "      <th>4</th>\n",
       "      <td>Guardians of the Galaxy Vol. 2</td>\n",
       "      <td>863756051</td>\n",
       "      <td>7.6</td>\n",
       "    </tr>\n",
       "    <tr>\n",
       "      <th>6</th>\n",
       "      <td>Avengers: Infinity War</td>\n",
       "      <td>2052415039</td>\n",
       "      <td>8.4</td>\n",
       "    </tr>\n",
       "    <tr>\n",
       "      <th>7</th>\n",
       "      <td>Fast &amp; Furious Presents: Hobbs &amp; Shaw</td>\n",
       "      <td>760098996</td>\n",
       "      <td>6.5</td>\n",
       "    </tr>\n",
       "    <tr>\n",
       "      <th>...</th>\n",
       "      <td>...</td>\n",
       "      <td>...</td>\n",
       "      <td>...</td>\n",
       "    </tr>\n",
       "    <tr>\n",
       "      <th>598</th>\n",
       "      <td>Fantastic Beasts: The Crimes of Grindelwald</td>\n",
       "      <td>654855901</td>\n",
       "      <td>6.5</td>\n",
       "    </tr>\n",
       "    <tr>\n",
       "      <th>647</th>\n",
       "      <td>Oz the Great and Powerful</td>\n",
       "      <td>491868548</td>\n",
       "      <td>6.3</td>\n",
       "    </tr>\n",
       "    <tr>\n",
       "      <th>1030</th>\n",
       "      <td>Fast Five</td>\n",
       "      <td>626137675</td>\n",
       "      <td>7.3</td>\n",
       "    </tr>\n",
       "    <tr>\n",
       "      <th>1235</th>\n",
       "      <td>The Secret Life of Pets</td>\n",
       "      <td>875457937</td>\n",
       "      <td>6.5</td>\n",
       "    </tr>\n",
       "    <tr>\n",
       "      <th>1242</th>\n",
       "      <td>The Boss Baby</td>\n",
       "      <td>527965936</td>\n",
       "      <td>6.3</td>\n",
       "    </tr>\n",
       "  </tbody>\n",
       "</table>\n",
       "<p>134 rows × 3 columns</p>\n",
       "</div>"
      ],
      "text/plain": [
       "                                       Movie Name     Revenue  Movie Rating\n",
       "2                 Transformers: Age of Extinction  1104054072           5.6\n",
       "3                   Transformers: The Last Knight   605425157           5.2\n",
       "4                  Guardians of the Galaxy Vol. 2   863756051           7.6\n",
       "6                          Avengers: Infinity War  2052415039           8.4\n",
       "7           Fast & Furious Presents: Hobbs & Shaw   760098996           6.5\n",
       "...                                           ...         ...           ...\n",
       "598   Fantastic Beasts: The Crimes of Grindelwald   654855901           6.5\n",
       "647                     Oz the Great and Powerful   491868548           6.3\n",
       "1030                                    Fast Five   626137675           7.3\n",
       "1235                      The Secret Life of Pets   875457937           6.5\n",
       "1242                                The Boss Baby   527965936           6.3\n",
       "\n",
       "[134 rows x 3 columns]"
      ]
     },
     "execution_count": 66,
     "metadata": {},
     "output_type": "execute_result"
    }
   ],
   "source": [
    "# Find potential outliers\n",
    "outlier_rev= rev_df.loc[(rev_df['Revenue'] < rev_lower_bound) | (rev_df['Revenue'] > rev_upper_bound)]\n",
    "outlier_rev"
   ]
  },
  {
   "cell_type": "code",
   "execution_count": 67,
   "id": "cb6d3d9e",
   "metadata": {},
   "outputs": [
    {
     "name": "stdout",
     "output_type": "stream",
     "text": [
      "The lowest critical rating of the potential outliers for net revenue is 4.9\n",
      "The highest critical rating of the potential outliers for net revenue is 8.8\n"
     ]
    }
   ],
   "source": [
    "# Find the lowest and highest critical ratings for potential outliers\n",
    "print(f\"The lowest critical rating of the potential outliers for net revenue is {outlier_rev['Movie Rating'].min()}\")\n",
    "print(f\"The highest critical rating of the potential outliers for net revenue is {outlier_rev['Movie Rating'].max()}\")"
   ]
  },
  {
   "cell_type": "code",
   "execution_count": 68,
   "id": "267e3971",
   "metadata": {},
   "outputs": [
    {
     "name": "stdout",
     "output_type": "stream",
     "text": [
      "There are 134 potential outliers for net revenue\n"
     ]
    }
   ],
   "source": [
    "# Find the number of potential outliers\n",
    "print(f\"There are {outlier_rev['Movie Name'].count()} potential outliers for net revenue\")"
   ]
  },
  {
   "cell_type": "markdown",
   "id": "56f47f0f",
   "metadata": {},
   "source": [
    "# Examine Gross Revenue"
   ]
  },
  {
   "cell_type": "code",
   "execution_count": 69,
   "id": "14aa0578",
   "metadata": {},
   "outputs": [
    {
     "data": {
      "text/html": [
       "<div>\n",
       "<style scoped>\n",
       "    .dataframe tbody tr th:only-of-type {\n",
       "        vertical-align: middle;\n",
       "    }\n",
       "\n",
       "    .dataframe tbody tr th {\n",
       "        vertical-align: top;\n",
       "    }\n",
       "\n",
       "    .dataframe thead th {\n",
       "        text-align: right;\n",
       "    }\n",
       "</style>\n",
       "<table border=\"1\" class=\"dataframe\">\n",
       "  <thead>\n",
       "    <tr style=\"text-align: right;\">\n",
       "      <th></th>\n",
       "      <th>Movie Name</th>\n",
       "      <th>Gross</th>\n",
       "      <th>Movie Rating</th>\n",
       "    </tr>\n",
       "  </thead>\n",
       "  <tbody>\n",
       "    <tr>\n",
       "      <th>0</th>\n",
       "      <td>Mother's Day</td>\n",
       "      <td>32460000.0</td>\n",
       "      <td>5.6</td>\n",
       "    </tr>\n",
       "    <tr>\n",
       "      <th>1</th>\n",
       "      <td>Spider-Man: Into the Spider-Verse</td>\n",
       "      <td>190240000.0</td>\n",
       "      <td>8.4</td>\n",
       "    </tr>\n",
       "    <tr>\n",
       "      <th>2</th>\n",
       "      <td>Transformers: Age of Extinction</td>\n",
       "      <td>245440000.0</td>\n",
       "      <td>5.6</td>\n",
       "    </tr>\n",
       "    <tr>\n",
       "      <th>3</th>\n",
       "      <td>Transformers: The Last Knight</td>\n",
       "      <td>130170000.0</td>\n",
       "      <td>5.2</td>\n",
       "    </tr>\n",
       "    <tr>\n",
       "      <th>4</th>\n",
       "      <td>Guardians of the Galaxy Vol. 2</td>\n",
       "      <td>389810000.0</td>\n",
       "      <td>7.6</td>\n",
       "    </tr>\n",
       "  </tbody>\n",
       "</table>\n",
       "</div>"
      ],
      "text/plain": [
       "                          Movie Name        Gross  Movie Rating\n",
       "0                       Mother's Day   32460000.0           5.6\n",
       "1  Spider-Man: Into the Spider-Verse  190240000.0           8.4\n",
       "2    Transformers: Age of Extinction  245440000.0           5.6\n",
       "3      Transformers: The Last Knight  130170000.0           5.2\n",
       "4     Guardians of the Galaxy Vol. 2  389810000.0           7.6"
      ]
     },
     "execution_count": 69,
     "metadata": {},
     "output_type": "execute_result"
    }
   ],
   "source": [
    "# Refine the results to only relevant data\n",
    "gross_df = filtered_df[[\"Movie Name\", \"Gross\", \"Movie Rating\"]]\n",
    "gross_df.head()"
   ]
  },
  {
   "cell_type": "code",
   "execution_count": 70,
   "id": "d1080426",
   "metadata": {},
   "outputs": [
    {
     "name": "stdout",
     "output_type": "stream",
     "text": [
      "Correlation coefficient: 0.23964256181379562\n"
     ]
    }
   ],
   "source": [
    "#Find correlation\n",
    "correlation = gross_df[['Gross', 'Movie Rating']].corr()\n",
    "c_cf = correlation.loc['Gross', 'Movie Rating']\n",
    "print(f\"Correlation coefficient: {c_cf}\")"
   ]
  },
  {
   "cell_type": "code",
   "execution_count": 71,
   "id": "b14780b0",
   "metadata": {},
   "outputs": [],
   "source": [
    "# Import dependencies\n",
    "import matplotlib.pyplot as plt\n",
    "import pandas as pd\n",
    "import numpy as np"
   ]
  },
  {
   "cell_type": "code",
   "execution_count": 72,
   "id": "ac4c5dc0",
   "metadata": {},
   "outputs": [
    {
     "data": {
      "image/png": "[encoded data removed]",
      "text/plain": [
       "<Figure size 800x800 with 1 Axes>"
      ]
     },
     "metadata": {},
     "output_type": "display_data"
    }
   ],
   "source": [
    "# Make a scatter plot\n",
    "gross_df.plot(kind=\"scatter\", x=\"Movie Rating\", y=\"Gross\", grid=True, figsize=(8,8),\n",
    "              title=\"Impact of Gross Revenue on Critical Acclaim\")\n",
    "plt.show()"
   ]
  },
  {
   "cell_type": "code",
   "execution_count": 73,
   "id": "10849e42",
   "metadata": {},
   "outputs": [],
   "source": [
    "# Statistical Analysis\n",
    "gross_quartiles = gross_df[\"Gross\"].quantile([.25,.5,.75])\n",
    "gross_lowerq = gross_quartiles[.25]\n",
    "gross_upperq = gross_quartiles[.75]\n",
    "gross_iqr = gross_upperq - gross_lowerq"
   ]
  },
  {
   "cell_type": "code",
   "execution_count": 74,
   "id": "7cccb0fc",
   "metadata": {},
   "outputs": [
    {
     "name": "stdout",
     "output_type": "stream",
     "text": [
      "The lower quartile of gross revenue is: 6560000.0\n",
      "The upper quartile of gross revenue is: 80412500.0\n",
      "The interquartile gross of revenue is: 73852500.0\n",
      "The the median of gross is: 35040000.0 \n"
     ]
    }
   ],
   "source": [
    "# Print results\n",
    "print(f\"The lower quartile of gross revenue is: {gross_lowerq}\")\n",
    "print(f\"The upper quartile of gross revenue is: {gross_upperq}\")\n",
    "print(f\"The interquartile gross of revenue is: {gross_iqr}\")\n",
    "print(f\"The the median of gross is: {gross_quartiles[0.5]} \")"
   ]
  },
  {
   "cell_type": "code",
   "execution_count": 75,
   "id": "a8aca7d7",
   "metadata": {},
   "outputs": [
    {
     "name": "stdout",
     "output_type": "stream",
     "text": [
      "Gross Revenue below -104218750.0 could be outliers.\n",
      "Gross Revenue above 191191250.0 could be outliers.\n"
     ]
    }
   ],
   "source": [
    "# Find potential outliers range\n",
    "gross_lower_bound = gross_lowerq - (1.5*gross_iqr)\n",
    "gross_upper_bound = gross_upperq + (1.5*gross_iqr)\n",
    "print(f\"Gross Revenue below {gross_lower_bound} could be outliers.\")\n",
    "print(f\"Gross Revenue above {gross_upper_bound} could be outliers.\")"
   ]
  },
  {
   "cell_type": "code",
   "execution_count": 76,
   "id": "0c34f735",
   "metadata": {},
   "outputs": [
    {
     "data": {
      "text/html": [
       "<div>\n",
       "<style scoped>\n",
       "    .dataframe tbody tr th:only-of-type {\n",
       "        vertical-align: middle;\n",
       "    }\n",
       "\n",
       "    .dataframe tbody tr th {\n",
       "        vertical-align: top;\n",
       "    }\n",
       "\n",
       "    .dataframe thead th {\n",
       "        text-align: right;\n",
       "    }\n",
       "</style>\n",
       "<table border=\"1\" class=\"dataframe\">\n",
       "  <thead>\n",
       "    <tr style=\"text-align: right;\">\n",
       "      <th></th>\n",
       "      <th>Movie Name</th>\n",
       "      <th>Gross</th>\n",
       "      <th>Movie Rating</th>\n",
       "    </tr>\n",
       "  </thead>\n",
       "  <tbody>\n",
       "    <tr>\n",
       "      <th>2</th>\n",
       "      <td>Transformers: Age of Extinction</td>\n",
       "      <td>245440000.0</td>\n",
       "      <td>5.6</td>\n",
       "    </tr>\n",
       "    <tr>\n",
       "      <th>4</th>\n",
       "      <td>Guardians of the Galaxy Vol. 2</td>\n",
       "      <td>389810000.0</td>\n",
       "      <td>7.6</td>\n",
       "    </tr>\n",
       "    <tr>\n",
       "      <th>6</th>\n",
       "      <td>Avengers: Infinity War</td>\n",
       "      <td>678820000.0</td>\n",
       "      <td>8.4</td>\n",
       "    </tr>\n",
       "    <tr>\n",
       "      <th>8</th>\n",
       "      <td>The Amazing Spider-Man 2</td>\n",
       "      <td>202850000.0</td>\n",
       "      <td>6.6</td>\n",
       "    </tr>\n",
       "    <tr>\n",
       "      <th>12</th>\n",
       "      <td>Spider-Man: Homecoming</td>\n",
       "      <td>334200000.0</td>\n",
       "      <td>7.4</td>\n",
       "    </tr>\n",
       "    <tr>\n",
       "      <th>...</th>\n",
       "      <td>...</td>\n",
       "      <td>...</td>\n",
       "      <td>...</td>\n",
       "    </tr>\n",
       "    <tr>\n",
       "      <th>464</th>\n",
       "      <td>Spectre</td>\n",
       "      <td>200070000.0</td>\n",
       "      <td>6.8</td>\n",
       "    </tr>\n",
       "    <tr>\n",
       "      <th>563</th>\n",
       "      <td>Gravity</td>\n",
       "      <td>274090000.0</td>\n",
       "      <td>7.7</td>\n",
       "    </tr>\n",
       "    <tr>\n",
       "      <th>647</th>\n",
       "      <td>Oz the Great and Powerful</td>\n",
       "      <td>234910000.0</td>\n",
       "      <td>6.3</td>\n",
       "    </tr>\n",
       "    <tr>\n",
       "      <th>1030</th>\n",
       "      <td>Fast Five</td>\n",
       "      <td>209840000.0</td>\n",
       "      <td>7.3</td>\n",
       "    </tr>\n",
       "    <tr>\n",
       "      <th>1235</th>\n",
       "      <td>The Secret Life of Pets</td>\n",
       "      <td>368380000.0</td>\n",
       "      <td>6.5</td>\n",
       "    </tr>\n",
       "  </tbody>\n",
       "</table>\n",
       "<p>105 rows × 3 columns</p>\n",
       "</div>"
      ],
      "text/plain": [
       "                           Movie Name        Gross  Movie Rating\n",
       "2     Transformers: Age of Extinction  245440000.0           5.6\n",
       "4      Guardians of the Galaxy Vol. 2  389810000.0           7.6\n",
       "6              Avengers: Infinity War  678820000.0           8.4\n",
       "8            The Amazing Spider-Man 2  202850000.0           6.6\n",
       "12             Spider-Man: Homecoming  334200000.0           7.4\n",
       "...                               ...          ...           ...\n",
       "464                           Spectre  200070000.0           6.8\n",
       "563                           Gravity  274090000.0           7.7\n",
       "647         Oz the Great and Powerful  234910000.0           6.3\n",
       "1030                        Fast Five  209840000.0           7.3\n",
       "1235          The Secret Life of Pets  368380000.0           6.5\n",
       "\n",
       "[105 rows x 3 columns]"
      ]
     },
     "execution_count": 76,
     "metadata": {},
     "output_type": "execute_result"
    }
   ],
   "source": [
    "outlier_gross= gross_df.loc[(gross_df['Gross'] < gross_lower_bound) | (gross_df['Gross'] > gross_upper_bound)]\n",
    "outlier_gross"
   ]
  },
  {
   "cell_type": "code",
   "execution_count": 77,
   "id": "18f24262",
   "metadata": {},
   "outputs": [
    {
     "name": "stdout",
     "output_type": "stream",
     "text": [
      "The lowest critical rating of the potential outliers for gross revenue is 4.9\n",
      "The highest critical rating of the potential outliers for gross revenue is 8.8\n"
     ]
    }
   ],
   "source": [
    "# Find the lowest and highest critical ratings for potential outliers\n",
    "print(f\"The lowest critical rating of the potential outliers for gross revenue is {outlier_gross['Movie Rating'].min()}\")\n",
    "print(f\"The highest critical rating of the potential outliers for gross revenue is {outlier_gross['Movie Rating'].max()}\")"
   ]
  },
  {
   "cell_type": "code",
   "execution_count": 78,
   "id": "9d2d3cf9",
   "metadata": {},
   "outputs": [
    {
     "name": "stdout",
     "output_type": "stream",
     "text": [
      "There are 105 potential outliers for gross revenue\n"
     ]
    }
   ],
   "source": [
    "#Find the number of potential outliers\n",
    "print(f\"There are {outlier_gross['Movie Name'].count()} potential outliers for gross revenue\")"
   ]
  },
  {
   "cell_type": "markdown",
   "id": "a1d577c6",
   "metadata": {},
   "source": [
    "# Ratings outliers"
   ]
  },
  {
   "cell_type": "code",
   "execution_count": 79,
   "id": "77cadc7d",
   "metadata": {},
   "outputs": [],
   "source": [
    "# Statistical Analysis\n",
    "filtered_quartiles = filtered_df[\"Movie Rating\"].quantile([.25,.5,.75])\n",
    "filtered_lowerq  = filtered_quartiles[.25]\n",
    "filtered_upperq = filtered_quartiles[.75]\n",
    "filtered_iqr = filtered_upperq - filtered_lowerq"
   ]
  },
  {
   "cell_type": "code",
   "execution_count": 80,
   "id": "53a1dee9",
   "metadata": {},
   "outputs": [
    {
     "name": "stdout",
     "output_type": "stream",
     "text": [
      "The lower quartile of Critical Ratings is: 6.1\n",
      "The upper quartile of Critical Ratings is: 7.2\n",
      "The interquartile of Critical Ratings is: 1.1000000000000005\n",
      "The the median of Critical Ratings is: 6.6 \n"
     ]
    }
   ],
   "source": [
    "print(f\"The lower quartile of Critical Ratings is: {filtered_lowerq}\")\n",
    "print(f\"The upper quartile of Critical Ratings is: {filtered_upperq}\")\n",
    "print(f\"The interquartile of Critical Ratings is: {filtered_iqr}\")\n",
    "print(f\"The the median of Critical Ratings is: {filtered_quartiles[0.5]} \")"
   ]
  },
  {
   "cell_type": "code",
   "execution_count": 81,
   "id": "037bd085",
   "metadata": {},
   "outputs": [
    {
     "name": "stdout",
     "output_type": "stream",
     "text": [
      "Critical Ratings below 4.449999999999999 could be outliers.\n",
      "Critical Ratings above 8.850000000000001 could be outliers.\n"
     ]
    }
   ],
   "source": [
    "# Find potential outliers range\n",
    "filtered_lower_bound = filtered_lowerq - (1.5*filtered_iqr)\n",
    "filtered_upper_bound = filtered_upperq + (1.5*filtered_iqr)\n",
    "print(f\"Critical Ratings below {filtered_lower_bound} could be outliers.\")\n",
    "print(f\"Critical Ratings above {filtered_upper_bound} could be outliers.\")"
   ]
  },
  {
   "cell_type": "code",
   "execution_count": 82,
   "id": "8e31ac42",
   "metadata": {},
   "outputs": [
    {
     "data": {
      "text/html": [
       "<div>\n",
       "<style scoped>\n",
       "    .dataframe tbody tr th:only-of-type {\n",
       "        vertical-align: middle;\n",
       "    }\n",
       "\n",
       "    .dataframe tbody tr th {\n",
       "        vertical-align: top;\n",
       "    }\n",
       "\n",
       "    .dataframe thead th {\n",
       "        text-align: right;\n",
       "    }\n",
       "</style>\n",
       "<table border=\"1\" class=\"dataframe\">\n",
       "  <thead>\n",
       "    <tr style=\"text-align: right;\">\n",
       "      <th></th>\n",
       "      <th>Movie Name</th>\n",
       "      <th>Vote Average</th>\n",
       "      <th>Vote Count</th>\n",
       "      <th>Production Companies</th>\n",
       "      <th>Revenue</th>\n",
       "      <th>Year of Release</th>\n",
       "      <th>Movie Rating</th>\n",
       "      <th>Votes</th>\n",
       "      <th>Gross</th>\n",
       "      <th>Genre</th>\n",
       "      <th>Certification</th>\n",
       "      <th>Director</th>\n",
       "    </tr>\n",
       "  </thead>\n",
       "  <tbody>\n",
       "  </tbody>\n",
       "</table>\n",
       "</div>"
      ],
      "text/plain": [
       "Empty DataFrame\n",
       "Columns: [Movie Name, Vote Average, Vote Count, Production Companies, Revenue, Year of Release, Movie Rating, Votes, Gross, Genre, Certification, Director]\n",
       "Index: []"
      ]
     },
     "execution_count": 82,
     "metadata": {},
     "output_type": "execute_result"
    }
   ],
   "source": [
    "outlier_filtered= filtered_df.loc[(filtered_df['Movie Rating'] < filtered_lower_bound) | (filtered_df['Movie Rating'] > filtered_upper_bound)]\n",
    "outlier_filtered"
   ]
  },
  {
   "cell_type": "code",
   "execution_count": 84,
   "id": "2eee5322",
   "metadata": {},
   "outputs": [
    {
     "name": "stdout",
     "output_type": "stream",
     "text": [
      "There are 0 potential outliers for critical rating\n"
     ]
    }
   ],
   "source": [
    "# Find the number of outliers\n",
    "print(f\"There are {outlier_filtered['Movie Name'].count()} potential outliers for critical rating\")"
   ]
  },
  {
   "cell_type": "code",
   "execution_count": null,
   "id": "1a059f69",
   "metadata": {},
   "outputs": [],
   "source": []
  }
 ],
 "metadata": {
  "kernelspec": {
   "display_name": "Python 3 (ipykernel)",
   "language": "python",
   "name": "python3"
  },
  "language_info": {
   "codemirror_mode": {
    "name": "ipython",
    "version": 3
   },
   "file_extension": ".py",
   "mimetype": "text/x-python",
   "name": "python",
   "nbconvert_exporter": "python",
   "pygments_lexer": "ipython3",
   "version": "3.10.13"
  }
 },
 "nbformat": 4,
 "nbformat_minor": 5
}
