{
 "cells": [
  {
   "cell_type": "code",
   "execution_count": 221,
   "id": "cb476406",
   "metadata": {},
   "outputs": [
    {
     "data": {
      "text/html": [
       "<div>\n",
       "<style scoped>\n",
       "    .dataframe tbody tr th:only-of-type {\n",
       "        vertical-align: middle;\n",
       "    }\n",
       "\n",
       "    .dataframe tbody tr th {\n",
       "        vertical-align: top;\n",
       "    }\n",
       "\n",
       "    .dataframe thead th {\n",
       "        text-align: right;\n",
       "    }\n",
       "</style>\n",
       "<table border=\"1\" class=\"dataframe\">\n",
       "  <thead>\n",
       "    <tr style=\"text-align: right;\">\n",
       "      <th></th>\n",
       "      <th>Movie Name</th>\n",
       "      <th>Vote Average</th>\n",
       "      <th>Vote Count</th>\n",
       "      <th>Production Companies</th>\n",
       "      <th>Revenue</th>\n",
       "      <th>Year of Release</th>\n",
       "      <th>Movie Rating</th>\n",
       "      <th>Votes</th>\n",
       "      <th>Gross</th>\n",
       "      <th>Genre</th>\n",
       "      <th>Certification</th>\n",
       "      <th>Director</th>\n",
       "    </tr>\n",
       "  </thead>\n",
       "  <tbody>\n",
       "    <tr>\n",
       "      <th>0</th>\n",
       "      <td>Mother's Day</td>\n",
       "      <td>6.0</td>\n",
       "      <td>94</td>\n",
       "      <td>['Akson Studio']</td>\n",
       "      <td>0</td>\n",
       "      <td>2016.0</td>\n",
       "      <td>5.6</td>\n",
       "      <td>38894.0</td>\n",
       "      <td>32460000.0</td>\n",
       "      <td>['Comedy', ' Drama', ' Romance']</td>\n",
       "      <td>PG-13</td>\n",
       "      <td>['Garry Marshall']</td>\n",
       "    </tr>\n",
       "    <tr>\n",
       "      <th>1</th>\n",
       "      <td>Spider-Man: Into the Spider-Verse</td>\n",
       "      <td>8.4</td>\n",
       "      <td>13081</td>\n",
       "      <td>['Columbia Pictures', 'Lord Miller', 'Pascal P...</td>\n",
       "      <td>375464627</td>\n",
       "      <td>2018.0</td>\n",
       "      <td>8.4</td>\n",
       "      <td>632177.0</td>\n",
       "      <td>190240000.0</td>\n",
       "      <td>['Animation', ' Action', ' Adventure']</td>\n",
       "      <td>PG</td>\n",
       "      <td>['Bob Persichetti', 'Peter Ramsey', 'Rodney Ro...</td>\n",
       "    </tr>\n",
       "    <tr>\n",
       "      <th>2</th>\n",
       "      <td>Transformers: Age of Extinction</td>\n",
       "      <td>5.9</td>\n",
       "      <td>7359</td>\n",
       "      <td>['di Bonaventura Pictures', 'Tom DeSanto/Don M...</td>\n",
       "      <td>1104054072</td>\n",
       "      <td>2014.0</td>\n",
       "      <td>5.6</td>\n",
       "      <td>326960.0</td>\n",
       "      <td>245440000.0</td>\n",
       "      <td>['Action', ' Adventure', ' Sci-Fi']</td>\n",
       "      <td>PG-13</td>\n",
       "      <td>['Michael Bay']</td>\n",
       "    </tr>\n",
       "    <tr>\n",
       "      <th>3</th>\n",
       "      <td>Transformers: The Last Knight</td>\n",
       "      <td>6.1</td>\n",
       "      <td>5548</td>\n",
       "      <td>['Paramount', 'di Bonaventura Pictures', 'Ian ...</td>\n",
       "      <td>605425157</td>\n",
       "      <td>2017.0</td>\n",
       "      <td>5.2</td>\n",
       "      <td>164230.0</td>\n",
       "      <td>130170000.0</td>\n",
       "      <td>['Action', ' Adventure', ' Sci-Fi']</td>\n",
       "      <td>PG-13</td>\n",
       "      <td>['Michael Bay']</td>\n",
       "    </tr>\n",
       "    <tr>\n",
       "      <th>4</th>\n",
       "      <td>Guardians of the Galaxy Vol. 2</td>\n",
       "      <td>7.6</td>\n",
       "      <td>19898</td>\n",
       "      <td>['Marvel Studios']</td>\n",
       "      <td>863756051</td>\n",
       "      <td>2017.0</td>\n",
       "      <td>7.6</td>\n",
       "      <td>736895.0</td>\n",
       "      <td>389810000.0</td>\n",
       "      <td>['Action', ' Adventure', ' Comedy']</td>\n",
       "      <td>PG-13</td>\n",
       "      <td>['James Gunn']</td>\n",
       "    </tr>\n",
       "  </tbody>\n",
       "</table>\n",
       "</div>"
      ],
      "text/plain": [
       "                          Movie Name  Vote Average  Vote Count  \\\n",
       "0                       Mother's Day           6.0          94   \n",
       "1  Spider-Man: Into the Spider-Verse           8.4       13081   \n",
       "2    Transformers: Age of Extinction           5.9        7359   \n",
       "3      Transformers: The Last Knight           6.1        5548   \n",
       "4     Guardians of the Galaxy Vol. 2           7.6       19898   \n",
       "\n",
       "                                Production Companies     Revenue  \\\n",
       "0                                   ['Akson Studio']           0   \n",
       "1  ['Columbia Pictures', 'Lord Miller', 'Pascal P...   375464627   \n",
       "2  ['di Bonaventura Pictures', 'Tom DeSanto/Don M...  1104054072   \n",
       "3  ['Paramount', 'di Bonaventura Pictures', 'Ian ...   605425157   \n",
       "4                                 ['Marvel Studios']   863756051   \n",
       "\n",
       "   Year of Release  Movie Rating     Votes        Gross  \\\n",
       "0           2016.0           5.6   38894.0   32460000.0   \n",
       "1           2018.0           8.4  632177.0  190240000.0   \n",
       "2           2014.0           5.6  326960.0  245440000.0   \n",
       "3           2017.0           5.2  164230.0  130170000.0   \n",
       "4           2017.0           7.6  736895.0  389810000.0   \n",
       "\n",
       "                                    Genre Certification  \\\n",
       "0        ['Comedy', ' Drama', ' Romance']         PG-13   \n",
       "1  ['Animation', ' Action', ' Adventure']            PG   \n",
       "2     ['Action', ' Adventure', ' Sci-Fi']         PG-13   \n",
       "3     ['Action', ' Adventure', ' Sci-Fi']         PG-13   \n",
       "4     ['Action', ' Adventure', ' Comedy']         PG-13   \n",
       "\n",
       "                                            Director  \n",
       "0                                 ['Garry Marshall']  \n",
       "1  ['Bob Persichetti', 'Peter Ramsey', 'Rodney Ro...  \n",
       "2                                    ['Michael Bay']  \n",
       "3                                    ['Michael Bay']  \n",
       "4                                     ['James Gunn']  "
      ]
     },
     "execution_count": 221,
     "metadata": {},
     "output_type": "execute_result"
    }
   ],
   "source": [
    "# Dependencies\n",
    "import pandas as pd\n",
    "from pathlib import Path\n",
    "import matplotlib.pyplot as plt\n",
    "from ast import literal_eval\n",
    "from scipy.stats import linregress\n",
    "import seaborn as sns\n",
    "from scipy.stats import ttest_ind\n",
    "\n",
    "\n",
    "\n",
    "# Filtered Dataset\n",
    "filtered_data = Path(\"Datasets/filtered_data.csv\")\n",
    "filtered_df = pd.read_csv(filtered_data)\n",
    "filtered_df.head()"
   ]
  },
  {
   "cell_type": "code",
   "execution_count": 222,
   "id": "e08c39e0",
   "metadata": {},
   "outputs": [],
   "source": [
    "# average_ratings_by_genre = filtered_df.groupby('Genre')['Movie Rating'].mean()\n",
    "# average_ratings_by_genre.sort_values()\n"
   ]
  },
  {
   "cell_type": "code",
   "execution_count": 223,
   "id": "cf4b53b5",
   "metadata": {},
   "outputs": [],
   "source": [
    "# average_ratings_by_genre.plot(kind=\"bar\", figsize=(20,3.5), title = \"Average Ratings by Genre\")\n",
    "\n",
    "\n",
    "# plt.show()\n",
    "# plt.tight_layout()"
   ]
  },
  {
   "cell_type": "code",
   "execution_count": 224,
   "id": "0e20f787",
   "metadata": {},
   "outputs": [],
   "source": [
    "# average_ratings_by_genre = pd.DataFrame(average_ratings_by_genre.plot(kind=\"scatter\", \n",
    "# marker=\"o\", title = \"Average Ratings by Genre\")"
   ]
  },
  {
   "cell_type": "code",
   "execution_count": 225,
   "id": "3ca72236",
   "metadata": {},
   "outputs": [
    {
     "data": {
      "text/html": [
       "<div>\n",
       "<style scoped>\n",
       "    .dataframe tbody tr th:only-of-type {\n",
       "        vertical-align: middle;\n",
       "    }\n",
       "\n",
       "    .dataframe tbody tr th {\n",
       "        vertical-align: top;\n",
       "    }\n",
       "\n",
       "    .dataframe thead th {\n",
       "        text-align: right;\n",
       "    }\n",
       "</style>\n",
       "<table border=\"1\" class=\"dataframe\">\n",
       "  <thead>\n",
       "    <tr style=\"text-align: right;\">\n",
       "      <th></th>\n",
       "      <th>Movie Name</th>\n",
       "      <th>Genre</th>\n",
       "      <th>Movie Rating</th>\n",
       "    </tr>\n",
       "  </thead>\n",
       "  <tbody>\n",
       "    <tr>\n",
       "      <th>0</th>\n",
       "      <td>Mother's Day</td>\n",
       "      <td>['Comedy', ' Drama', ' Romance']</td>\n",
       "      <td>5.6</td>\n",
       "    </tr>\n",
       "    <tr>\n",
       "      <th>1</th>\n",
       "      <td>Spider-Man: Into the Spider-Verse</td>\n",
       "      <td>['Animation', ' Action', ' Adventure']</td>\n",
       "      <td>8.4</td>\n",
       "    </tr>\n",
       "    <tr>\n",
       "      <th>2</th>\n",
       "      <td>Transformers: Age of Extinction</td>\n",
       "      <td>['Action', ' Adventure', ' Sci-Fi']</td>\n",
       "      <td>5.6</td>\n",
       "    </tr>\n",
       "    <tr>\n",
       "      <th>3</th>\n",
       "      <td>Transformers: The Last Knight</td>\n",
       "      <td>['Action', ' Adventure', ' Sci-Fi']</td>\n",
       "      <td>5.2</td>\n",
       "    </tr>\n",
       "    <tr>\n",
       "      <th>4</th>\n",
       "      <td>Guardians of the Galaxy Vol. 2</td>\n",
       "      <td>['Action', ' Adventure', ' Comedy']</td>\n",
       "      <td>7.6</td>\n",
       "    </tr>\n",
       "    <tr>\n",
       "      <th>...</th>\n",
       "      <td>...</td>\n",
       "      <td>...</td>\n",
       "      <td>...</td>\n",
       "    </tr>\n",
       "    <tr>\n",
       "      <th>1379</th>\n",
       "      <td>The Butler</td>\n",
       "      <td>['Biography', ' Drama']</td>\n",
       "      <td>7.2</td>\n",
       "    </tr>\n",
       "    <tr>\n",
       "      <th>1380</th>\n",
       "      <td>High-Rise</td>\n",
       "      <td>['Drama', ' Sci-Fi']</td>\n",
       "      <td>5.5</td>\n",
       "    </tr>\n",
       "    <tr>\n",
       "      <th>1381</th>\n",
       "      <td>The Birth of a Nation</td>\n",
       "      <td>['Biography', ' Drama', ' History']</td>\n",
       "      <td>6.5</td>\n",
       "    </tr>\n",
       "    <tr>\n",
       "      <th>1382</th>\n",
       "      <td>Little Boy</td>\n",
       "      <td>['Drama', ' History', ' War']</td>\n",
       "      <td>7.3</td>\n",
       "    </tr>\n",
       "    <tr>\n",
       "      <th>1383</th>\n",
       "      <td>Happy End</td>\n",
       "      <td>['Drama']</td>\n",
       "      <td>6.6</td>\n",
       "    </tr>\n",
       "  </tbody>\n",
       "</table>\n",
       "<p>1384 rows × 3 columns</p>\n",
       "</div>"
      ],
      "text/plain": [
       "                             Movie Name  \\\n",
       "0                          Mother's Day   \n",
       "1     Spider-Man: Into the Spider-Verse   \n",
       "2       Transformers: Age of Extinction   \n",
       "3         Transformers: The Last Knight   \n",
       "4        Guardians of the Galaxy Vol. 2   \n",
       "...                                 ...   \n",
       "1379                         The Butler   \n",
       "1380                          High-Rise   \n",
       "1381              The Birth of a Nation   \n",
       "1382                         Little Boy   \n",
       "1383                          Happy End   \n",
       "\n",
       "                                       Genre  Movie Rating  \n",
       "0           ['Comedy', ' Drama', ' Romance']           5.6  \n",
       "1     ['Animation', ' Action', ' Adventure']           8.4  \n",
       "2        ['Action', ' Adventure', ' Sci-Fi']           5.6  \n",
       "3        ['Action', ' Adventure', ' Sci-Fi']           5.2  \n",
       "4        ['Action', ' Adventure', ' Comedy']           7.6  \n",
       "...                                      ...           ...  \n",
       "1379                 ['Biography', ' Drama']           7.2  \n",
       "1380                    ['Drama', ' Sci-Fi']           5.5  \n",
       "1381     ['Biography', ' Drama', ' History']           6.5  \n",
       "1382           ['Drama', ' History', ' War']           7.3  \n",
       "1383                               ['Drama']           6.6  \n",
       "\n",
       "[1384 rows x 3 columns]"
      ]
     },
     "execution_count": 225,
     "metadata": {},
     "output_type": "execute_result"
    }
   ],
   "source": [
    "# build DataFrame with relevant info\n",
    "genre = filtered_df[\"Genre\"]\n",
    "movie_rating = filtered_df[\"Movie Rating\"]\n",
    "movie_name = filtered_df[\"Movie Name\"]\n",
    "average_ratings_by_genre = pd.DataFrame({\"Movie Name\": movie_name, \"Genre\":genre, \"Movie Rating\":movie_rating}\n",
    "                                       )\n",
    "    \n",
    "average_ratings_by_genre\n"
   ]
  },
  {
   "cell_type": "code",
   "execution_count": 226,
   "id": "122ea0d8",
   "metadata": {},
   "outputs": [
    {
     "data": {
      "text/html": [
       "<div>\n",
       "<style scoped>\n",
       "    .dataframe tbody tr th:only-of-type {\n",
       "        vertical-align: middle;\n",
       "    }\n",
       "\n",
       "    .dataframe tbody tr th {\n",
       "        vertical-align: top;\n",
       "    }\n",
       "\n",
       "    .dataframe thead th {\n",
       "        text-align: right;\n",
       "    }\n",
       "</style>\n",
       "<table border=\"1\" class=\"dataframe\">\n",
       "  <thead>\n",
       "    <tr style=\"text-align: right;\">\n",
       "      <th></th>\n",
       "      <th>Movie Name</th>\n",
       "      <th>Vote Average</th>\n",
       "      <th>Vote Count</th>\n",
       "      <th>Production Companies</th>\n",
       "      <th>Revenue</th>\n",
       "      <th>Year of Release</th>\n",
       "      <th>Movie Rating</th>\n",
       "      <th>Votes</th>\n",
       "      <th>Gross</th>\n",
       "      <th>Genre</th>\n",
       "      <th>Certification</th>\n",
       "      <th>Director</th>\n",
       "    </tr>\n",
       "  </thead>\n",
       "  <tbody>\n",
       "    <tr>\n",
       "      <th>0</th>\n",
       "      <td>Mother's Day</td>\n",
       "      <td>6.0</td>\n",
       "      <td>94</td>\n",
       "      <td>['Akson Studio']</td>\n",
       "      <td>0</td>\n",
       "      <td>2016.0</td>\n",
       "      <td>5.6</td>\n",
       "      <td>38894.0</td>\n",
       "      <td>32460000.0</td>\n",
       "      <td>Comedy</td>\n",
       "      <td>PG-13</td>\n",
       "      <td>['Garry Marshall']</td>\n",
       "    </tr>\n",
       "    <tr>\n",
       "      <th>0</th>\n",
       "      <td>Mother's Day</td>\n",
       "      <td>6.0</td>\n",
       "      <td>94</td>\n",
       "      <td>['Akson Studio']</td>\n",
       "      <td>0</td>\n",
       "      <td>2016.0</td>\n",
       "      <td>5.6</td>\n",
       "      <td>38894.0</td>\n",
       "      <td>32460000.0</td>\n",
       "      <td>Drama</td>\n",
       "      <td>PG-13</td>\n",
       "      <td>['Garry Marshall']</td>\n",
       "    </tr>\n",
       "    <tr>\n",
       "      <th>0</th>\n",
       "      <td>Mother's Day</td>\n",
       "      <td>6.0</td>\n",
       "      <td>94</td>\n",
       "      <td>['Akson Studio']</td>\n",
       "      <td>0</td>\n",
       "      <td>2016.0</td>\n",
       "      <td>5.6</td>\n",
       "      <td>38894.0</td>\n",
       "      <td>32460000.0</td>\n",
       "      <td>Romance</td>\n",
       "      <td>PG-13</td>\n",
       "      <td>['Garry Marshall']</td>\n",
       "    </tr>\n",
       "    <tr>\n",
       "      <th>1</th>\n",
       "      <td>Spider-Man: Into the Spider-Verse</td>\n",
       "      <td>8.4</td>\n",
       "      <td>13081</td>\n",
       "      <td>['Columbia Pictures', 'Lord Miller', 'Pascal P...</td>\n",
       "      <td>375464627</td>\n",
       "      <td>2018.0</td>\n",
       "      <td>8.4</td>\n",
       "      <td>632177.0</td>\n",
       "      <td>190240000.0</td>\n",
       "      <td>Animation</td>\n",
       "      <td>PG</td>\n",
       "      <td>['Bob Persichetti', 'Peter Ramsey', 'Rodney Ro...</td>\n",
       "    </tr>\n",
       "    <tr>\n",
       "      <th>1</th>\n",
       "      <td>Spider-Man: Into the Spider-Verse</td>\n",
       "      <td>8.4</td>\n",
       "      <td>13081</td>\n",
       "      <td>['Columbia Pictures', 'Lord Miller', 'Pascal P...</td>\n",
       "      <td>375464627</td>\n",
       "      <td>2018.0</td>\n",
       "      <td>8.4</td>\n",
       "      <td>632177.0</td>\n",
       "      <td>190240000.0</td>\n",
       "      <td>Action</td>\n",
       "      <td>PG</td>\n",
       "      <td>['Bob Persichetti', 'Peter Ramsey', 'Rodney Ro...</td>\n",
       "    </tr>\n",
       "  </tbody>\n",
       "</table>\n",
       "</div>"
      ],
      "text/plain": [
       "                          Movie Name  Vote Average  Vote Count  \\\n",
       "0                       Mother's Day           6.0          94   \n",
       "0                       Mother's Day           6.0          94   \n",
       "0                       Mother's Day           6.0          94   \n",
       "1  Spider-Man: Into the Spider-Verse           8.4       13081   \n",
       "1  Spider-Man: Into the Spider-Verse           8.4       13081   \n",
       "\n",
       "                                Production Companies    Revenue  \\\n",
       "0                                   ['Akson Studio']          0   \n",
       "0                                   ['Akson Studio']          0   \n",
       "0                                   ['Akson Studio']          0   \n",
       "1  ['Columbia Pictures', 'Lord Miller', 'Pascal P...  375464627   \n",
       "1  ['Columbia Pictures', 'Lord Miller', 'Pascal P...  375464627   \n",
       "\n",
       "   Year of Release  Movie Rating     Votes        Gross      Genre  \\\n",
       "0           2016.0           5.6   38894.0   32460000.0     Comedy   \n",
       "0           2016.0           5.6   38894.0   32460000.0      Drama   \n",
       "0           2016.0           5.6   38894.0   32460000.0    Romance   \n",
       "1           2018.0           8.4  632177.0  190240000.0  Animation   \n",
       "1           2018.0           8.4  632177.0  190240000.0     Action   \n",
       "\n",
       "  Certification                                           Director  \n",
       "0         PG-13                                 ['Garry Marshall']  \n",
       "0         PG-13                                 ['Garry Marshall']  \n",
       "0         PG-13                                 ['Garry Marshall']  \n",
       "1            PG  ['Bob Persichetti', 'Peter Ramsey', 'Rodney Ro...  \n",
       "1            PG  ['Bob Persichetti', 'Peter Ramsey', 'Rodney Ro...  "
      ]
     },
     "execution_count": 226,
     "metadata": {},
     "output_type": "execute_result"
    }
   ],
   "source": [
    "# split genres in to single values\n",
    "filtered_df['Genre'] = filtered_df['Genre'].apply(literal_eval)\n",
    "\n",
    "split_data = filtered_df.explode('Genre')\n",
    "\n",
    "\n",
    "split_data.head()"
   ]
  },
  {
   "cell_type": "code",
   "execution_count": 227,
   "id": "0787ebfc",
   "metadata": {},
   "outputs": [
    {
     "data": {
      "text/html": [
       "<div>\n",
       "<style scoped>\n",
       "    .dataframe tbody tr th:only-of-type {\n",
       "        vertical-align: middle;\n",
       "    }\n",
       "\n",
       "    .dataframe tbody tr th {\n",
       "        vertical-align: top;\n",
       "    }\n",
       "\n",
       "    .dataframe thead th {\n",
       "        text-align: right;\n",
       "    }\n",
       "</style>\n",
       "<table border=\"1\" class=\"dataframe\">\n",
       "  <thead>\n",
       "    <tr style=\"text-align: right;\">\n",
       "      <th></th>\n",
       "      <th>Movie Name</th>\n",
       "      <th>Vote Average</th>\n",
       "      <th>Vote Count</th>\n",
       "      <th>Production Companies</th>\n",
       "      <th>Revenue</th>\n",
       "      <th>Year of Release</th>\n",
       "      <th>Movie Rating</th>\n",
       "      <th>Votes</th>\n",
       "      <th>Gross</th>\n",
       "      <th>Genre</th>\n",
       "      <th>Certification</th>\n",
       "      <th>Director</th>\n",
       "    </tr>\n",
       "  </thead>\n",
       "  <tbody>\n",
       "    <tr>\n",
       "      <th>0</th>\n",
       "      <td>Mother's Day</td>\n",
       "      <td>6.0</td>\n",
       "      <td>94</td>\n",
       "      <td>['Akson Studio']</td>\n",
       "      <td>0</td>\n",
       "      <td>2016.0</td>\n",
       "      <td>5.6</td>\n",
       "      <td>38894.0</td>\n",
       "      <td>32460000.0</td>\n",
       "      <td>Comedy</td>\n",
       "      <td>PG-13</td>\n",
       "      <td>['Garry Marshall']</td>\n",
       "    </tr>\n",
       "    <tr>\n",
       "      <th>0</th>\n",
       "      <td>Mother's Day</td>\n",
       "      <td>6.0</td>\n",
       "      <td>94</td>\n",
       "      <td>['Akson Studio']</td>\n",
       "      <td>0</td>\n",
       "      <td>2016.0</td>\n",
       "      <td>5.6</td>\n",
       "      <td>38894.0</td>\n",
       "      <td>32460000.0</td>\n",
       "      <td>Drama</td>\n",
       "      <td>PG-13</td>\n",
       "      <td>['Garry Marshall']</td>\n",
       "    </tr>\n",
       "    <tr>\n",
       "      <th>0</th>\n",
       "      <td>Mother's Day</td>\n",
       "      <td>6.0</td>\n",
       "      <td>94</td>\n",
       "      <td>['Akson Studio']</td>\n",
       "      <td>0</td>\n",
       "      <td>2016.0</td>\n",
       "      <td>5.6</td>\n",
       "      <td>38894.0</td>\n",
       "      <td>32460000.0</td>\n",
       "      <td>Romance</td>\n",
       "      <td>PG-13</td>\n",
       "      <td>['Garry Marshall']</td>\n",
       "    </tr>\n",
       "    <tr>\n",
       "      <th>1</th>\n",
       "      <td>Spider-Man: Into the Spider-Verse</td>\n",
       "      <td>8.4</td>\n",
       "      <td>13081</td>\n",
       "      <td>['Columbia Pictures', 'Lord Miller', 'Pascal P...</td>\n",
       "      <td>375464627</td>\n",
       "      <td>2018.0</td>\n",
       "      <td>8.4</td>\n",
       "      <td>632177.0</td>\n",
       "      <td>190240000.0</td>\n",
       "      <td>Animation</td>\n",
       "      <td>PG</td>\n",
       "      <td>['Bob Persichetti', 'Peter Ramsey', 'Rodney Ro...</td>\n",
       "    </tr>\n",
       "    <tr>\n",
       "      <th>1</th>\n",
       "      <td>Spider-Man: Into the Spider-Verse</td>\n",
       "      <td>8.4</td>\n",
       "      <td>13081</td>\n",
       "      <td>['Columbia Pictures', 'Lord Miller', 'Pascal P...</td>\n",
       "      <td>375464627</td>\n",
       "      <td>2018.0</td>\n",
       "      <td>8.4</td>\n",
       "      <td>632177.0</td>\n",
       "      <td>190240000.0</td>\n",
       "      <td>Action</td>\n",
       "      <td>PG</td>\n",
       "      <td>['Bob Persichetti', 'Peter Ramsey', 'Rodney Ro...</td>\n",
       "    </tr>\n",
       "  </tbody>\n",
       "</table>\n",
       "</div>"
      ],
      "text/plain": [
       "                          Movie Name  Vote Average  Vote Count  \\\n",
       "0                       Mother's Day           6.0          94   \n",
       "0                       Mother's Day           6.0          94   \n",
       "0                       Mother's Day           6.0          94   \n",
       "1  Spider-Man: Into the Spider-Verse           8.4       13081   \n",
       "1  Spider-Man: Into the Spider-Verse           8.4       13081   \n",
       "\n",
       "                                Production Companies    Revenue  \\\n",
       "0                                   ['Akson Studio']          0   \n",
       "0                                   ['Akson Studio']          0   \n",
       "0                                   ['Akson Studio']          0   \n",
       "1  ['Columbia Pictures', 'Lord Miller', 'Pascal P...  375464627   \n",
       "1  ['Columbia Pictures', 'Lord Miller', 'Pascal P...  375464627   \n",
       "\n",
       "   Year of Release  Movie Rating     Votes        Gross      Genre  \\\n",
       "0           2016.0           5.6   38894.0   32460000.0     Comedy   \n",
       "0           2016.0           5.6   38894.0   32460000.0      Drama   \n",
       "0           2016.0           5.6   38894.0   32460000.0    Romance   \n",
       "1           2018.0           8.4  632177.0  190240000.0  Animation   \n",
       "1           2018.0           8.4  632177.0  190240000.0     Action   \n",
       "\n",
       "  Certification                                           Director  \n",
       "0         PG-13                                 ['Garry Marshall']  \n",
       "0         PG-13                                 ['Garry Marshall']  \n",
       "0         PG-13                                 ['Garry Marshall']  \n",
       "1            PG  ['Bob Persichetti', 'Peter Ramsey', 'Rodney Ro...  \n",
       "1            PG  ['Bob Persichetti', 'Peter Ramsey', 'Rodney Ro...  "
      ]
     },
     "execution_count": 227,
     "metadata": {},
     "output_type": "execute_result"
    }
   ],
   "source": [
    "split_data.head()"
   ]
  },
  {
   "cell_type": "code",
   "execution_count": 228,
   "id": "537ce76e",
   "metadata": {},
   "outputs": [],
   "source": [
    "# drop null values\n",
    "split_data= split_data.dropna()\n"
   ]
  },
  {
   "cell_type": "code",
   "execution_count": 229,
   "id": "06e522bc",
   "metadata": {},
   "outputs": [
    {
     "data": {
      "text/plain": [
       "8.8"
      ]
     },
     "execution_count": 229,
     "metadata": {},
     "output_type": "execute_result"
    }
   ],
   "source": [
    "# find max rating\n",
    "max_rating = max(split_data[\"Movie Rating\"])\n",
    "max_rating"
   ]
  },
  {
   "cell_type": "code",
   "execution_count": 230,
   "id": "6f478769",
   "metadata": {},
   "outputs": [
    {
     "data": {
      "text/plain": [
       "50    Inception\n",
       "50    Inception\n",
       "50    Inception\n",
       "Name: Movie Name, dtype: object"
      ]
     },
     "execution_count": 230,
     "metadata": {},
     "output_type": "execute_result"
    }
   ],
   "source": [
    "# max rated name\n",
    "highest_rated_movie = split_data.loc[split_data['Movie Rating'].idxmax()]['Movie Name']\n",
    "highest_rated_movie\n",
    "\n"
   ]
  },
  {
   "cell_type": "code",
   "execution_count": 231,
   "id": "466b9ada",
   "metadata": {},
   "outputs": [
    {
     "data": {
      "text/plain": [
       "4.9"
      ]
     },
     "execution_count": 231,
     "metadata": {},
     "output_type": "execute_result"
    }
   ],
   "source": [
    "# find min rating\n",
    "min_rating = min(split_data[\"Movie Rating\"])\n",
    "min_rating"
   ]
  },
  {
   "cell_type": "code",
   "execution_count": 232,
   "id": "b36f01d9",
   "metadata": {},
   "outputs": [
    {
     "data": {
      "text/plain": [
       "159    The Twilight Saga: Breaking Dawn - Part 1\n",
       "159    The Twilight Saga: Breaking Dawn - Part 1\n",
       "159    The Twilight Saga: Breaking Dawn - Part 1\n",
       "Name: Movie Name, dtype: object"
      ]
     },
     "execution_count": 232,
     "metadata": {},
     "output_type": "execute_result"
    }
   ],
   "source": [
    "# min movie name\n",
    "lowest_rated_movie = split_data.loc[split_data['Movie Rating'].idxmin()]['Movie Name']\n",
    "lowest_rated_movie"
   ]
  },
  {
   "cell_type": "code",
   "execution_count": 233,
   "id": "3201b266",
   "metadata": {},
   "outputs": [
    {
     "data": {
      "text/plain": [
       "Movie Rating\n",
       "6.4    78\n",
       "6.3    73\n",
       "6.6    73\n",
       "6.2    70\n",
       "6.5    64\n",
       "7.1    63\n",
       "6.7    62\n",
       "7.3    59\n",
       "6.8    56\n",
       "7.0    53\n",
       "7.2    51\n",
       "6.9    50\n",
       "6.1    48\n",
       "5.6    47\n",
       "5.7    41\n",
       "7.5    41\n",
       "7.4    40\n",
       "5.8    39\n",
       "5.9    39\n",
       "6.0    37\n",
       "7.8    35\n",
       "7.6    34\n",
       "7.7    30\n",
       "5.4    25\n",
       "5.5    25\n",
       "8.1    21\n",
       "7.9    21\n",
       "5.3    20\n",
       "5.2    19\n",
       "8.0    17\n",
       "5.1    12\n",
       "4.9    10\n",
       "8.4     8\n",
       "5.0     8\n",
       "8.2     5\n",
       "8.3     4\n",
       "8.5     4\n",
       "8.7     1\n",
       "8.8     1\n",
       "Name: count, dtype: int64"
      ]
     },
     "execution_count": 233,
     "metadata": {},
     "output_type": "execute_result"
    }
   ],
   "source": [
    "# ratings value counts\n",
    "movie_values = filtered_df['Movie Rating'].value_counts()\n",
    "movie_values"
   ]
  },
  {
   "cell_type": "code",
   "execution_count": 251,
   "id": "3f3b8f98",
   "metadata": {},
   "outputs": [
    {
     "data": {
      "text/plain": [
       "Genre\n",
       "Action       2655091\n",
       "Adventure    2311253\n",
       "Animation     548907\n",
       "Biography     442699\n",
       "Comedy       1627939\n",
       "Crime         763401\n",
       "Drama        2292478\n",
       "Family        231048\n",
       "Fantasy       654305\n",
       "History       139348\n",
       "Horror        518557\n",
       "Music         116313\n",
       "Musical        23433\n",
       "Mystery       544997\n",
       "Romance       483836\n",
       "Sci-Fi       1124110\n",
       "Sport          34701\n",
       "Thriller      971881\n",
       "War            61314\n",
       "Western        42518\n",
       "Name: Vote Count, dtype: int64"
      ]
     },
     "execution_count": 251,
     "metadata": {},
     "output_type": "execute_result"
    }
   ],
   "source": [
    "total_votes_per_genre = split_data.groupby('Genre')['Vote Count'].sum()\n",
    "total_votes_per_genre"
   ]
  },
  {
   "cell_type": "code",
   "execution_count": 253,
   "id": "c6bebe26",
   "metadata": {},
   "outputs": [
    {
     "data": {
      "image/png": "[encoded data removed]",
      "text/plain": [
       "<Figure size 2000x1000 with 1 Axes>"
      ]
     },
     "metadata": {},
     "output_type": "display_data"
    },
    {
     "data": {
      "text/plain": [
       "<Figure size 640x480 with 0 Axes>"
      ]
     },
     "metadata": {},
     "output_type": "display_data"
    }
   ],
   "source": [
    "total_votes_per_genre.plot(kind=\"bar\", figsize=(20,10\n",
    "                                               ), title = \"Total Votes by Genre\")\n",
    "\n",
    "\n",
    "plt.show()\n",
    "plt.tight_layout()"
   ]
  },
  {
   "cell_type": "code",
   "execution_count": 234,
   "id": "0575e49e",
   "metadata": {},
   "outputs": [
    {
     "data": {
      "text/plain": [
       "count    1384.000000\n",
       "mean        6.629046\n",
       "std         0.775638\n",
       "min         4.900000\n",
       "25%         6.100000\n",
       "50%         6.600000\n",
       "75%         7.200000\n",
       "max         8.800000\n",
       "Name: Movie Rating, dtype: float64"
      ]
     },
     "execution_count": 234,
     "metadata": {},
     "output_type": "execute_result"
    }
   ],
   "source": [
    "# describe dataset \n",
    "filtered_df[\"Movie Rating\"].describe()"
   ]
  },
  {
   "cell_type": "code",
   "execution_count": 235,
   "id": "efec5359",
   "metadata": {},
   "outputs": [
    {
     "data": {
      "text/plain": [
       "<Axes: >"
      ]
     },
     "execution_count": 235,
     "metadata": {},
     "output_type": "execute_result"
    },
    {
     "data": {
      "image/png": "[encoded data removed]",
      "text/plain": [
       "<Figure size 640x480 with 1 Axes>"
      ]
     },
     "metadata": {},
     "output_type": "display_data"
    }
   ],
   "source": [
    "filtered_df[\"Movie Rating\"].hist(bins=10)"
   ]
  },
  {
   "cell_type": "code",
   "execution_count": 236,
   "id": "b7a96535",
   "metadata": {},
   "outputs": [
    {
     "data": {
      "text/plain": [
       "<Axes: >"
      ]
     },
     "execution_count": 236,
     "metadata": {},
     "output_type": "execute_result"
    },
    {
     "data": {
      "image/png": "[encoded data removed]",
      "text/plain": [
       "<Figure size 640x480 with 1 Axes>"
      ]
     },
     "metadata": {},
     "output_type": "display_data"
    }
   ],
   "source": [
    "filtered_df[\"Movie Rating\"].hist(bins=20)"
   ]
  },
  {
   "cell_type": "code",
   "execution_count": null,
   "id": "439bf3ff",
   "metadata": {},
   "outputs": [],
   "source": [
    "\n"
   ]
  },
  {
   "cell_type": "code",
   "execution_count": 237,
   "id": "2a636a02",
   "metadata": {},
   "outputs": [],
   "source": [
    "# len(avg_ratings_by_genre)"
   ]
  },
  {
   "cell_type": "code",
   "execution_count": 238,
   "id": "79631c7f",
   "metadata": {
    "scrolled": true
   },
   "outputs": [],
   "source": [
    "# avg_ratings_by_genre_df = pd.DataFrame({\" Action\":\"Action\", \" Adventure\":\"Adventure\", \"Animation\": \"Animation\", \n",
    "#                                      \" Biography\":\"Biography\",\n",
    "#                                     \" Comedy\":\"Comedy\", \" Crime\":\"Crime\", \" Drama\": \"Drama\", \" Family\":\"Family\",\n",
    "#                                     \" Fantasy\":\"Fantasy\", \" History\":\"History\", \" Music\": \"Music\",\n",
    "#                                     \" Musical\": \"Musical\", \" Mystery\":\"Mystery\", \" Romance\":\"Romance\", \" Sci-Fi\":\"Sci-Fi\",\n",
    "#                                     \" Sport\":\"Sport\", \" Thriller\": \"Thriller\", \" War\": \"War\", \" Western\":\"Western\"},\n",
    "#                                        index=[0])\n",
    "# avg_ratings_by_genre_df.head()"
   ]
  },
  {
   "cell_type": "code",
   "execution_count": 239,
   "id": "3053350a",
   "metadata": {},
   "outputs": [],
   "source": [
    "# \" Action\"== \"Action\",\n",
    "# \" Adventure\"==\"Adventure\",\n",
    "# \"Animation\"== \"Animation\", \n",
    "# \" Biography\"==\"Biography\",\n",
    "# \" Comedy\"==\"Comedy\", \n",
    "# \" Crime\"==\"Crime\",\n",
    "# \" Drama\"== \"Drama\",\n",
    "# \" Family\"==\"Family\",\n",
    "# \" Fantasy\"==\"Fantasy\", \n",
    "# \" History\"==\"History\", \n",
    "# \" Music\"== \"Music\",\n",
    "# \" Musical\"== \"Musical\",\n",
    "# \" Mystery\"==\"Mystery\", \n",
    "# \" Romance\"==\"Romance\", \n",
    "# \" Sci-Fi\"==\"Sci-Fi\",\n",
    "# \" Sport\"==\"Sport\", \n",
    "# \" Thriller\"== \"Thriller\", \n",
    "# \" War\"== \"War\", \n",
    "# \" Western\"==\"Western\"\n",
    "                                       "
   ]
  },
  {
   "cell_type": "code",
   "execution_count": 240,
   "id": "b2964180",
   "metadata": {},
   "outputs": [],
   "source": [
    "# combine data and get rid of random spacing in duplicate columns\n",
    "split_data['Genre'] = split_data['Genre'].replace({\" Action\": \"Action\"})\n",
    "split_data['Genre'] = split_data['Genre'].replace({\" Adventure\": \"Adventure\"})\n",
    "split_data['Genre'] = split_data['Genre'].replace({\" Biography\": \"Biography\"})\n",
    "split_data['Genre'] = split_data['Genre'].replace({\" Comedy\": \"Comedy\"})\n",
    "split_data['Genre'] = split_data['Genre'].replace({\" Crime\": \"Crime\"})\n",
    "split_data['Genre'] = split_data['Genre'].replace({\" Drama\": \"Drama\"})\n",
    "split_data['Genre'] = split_data['Genre'].replace({\" Family\": \"Family\"})\n",
    "split_data['Genre'] = split_data['Genre'].replace({\" Fantasy\": \"Fantasy\"})\n",
    "split_data['Genre'] = split_data['Genre'].replace({\" History\": \"History\"})\n",
    "split_data['Genre'] = split_data['Genre'].replace({\" Horror\": \"Horror\"})\n",
    "split_data['Genre'] = split_data['Genre'].replace({\" Music\": \"Music\"})\n",
    "split_data['Genre'] = split_data['Genre'].replace({\" Musical\": \"Musical\"})\n",
    "split_data['Genre'] = split_data['Genre'].replace({\" Mystery\": \"Mystery\"})\n",
    "split_data['Genre'] = split_data['Genre'].replace({\" Romance\": \"Romance\"})\n",
    "split_data['Genre'] = split_data['Genre'].replace({\" Sci-Fi\": \"Sci-Fi\"})\n",
    "split_data['Genre'] = split_data['Genre'].replace({\" Sport\": \"Sport\"})\n",
    "split_data['Genre'] = split_data['Genre'].replace({\" Thriller\": \"Thriller\"})\n",
    "split_data['Genre'] = split_data['Genre'].replace({\" War\": \"War\"})\n",
    "split_data['Genre'] = split_data['Genre'].replace({\" Western\": \"Western\"})\n"
   ]
  },
  {
   "cell_type": "code",
   "execution_count": 241,
   "id": "8dd2b801",
   "metadata": {},
   "outputs": [
    {
     "data": {
      "text/plain": [
       "Genre\n",
       "Action       6.552410\n",
       "Adventure    6.621867\n",
       "Animation    6.867769\n",
       "Biography    7.103008\n",
       "Comedy       6.501728\n",
       "Crime        6.649561\n",
       "Drama        6.857163\n",
       "Family       6.559016\n",
       "Fantasy      6.290152\n",
       "History      6.937500\n",
       "Horror       6.167273\n",
       "Music        6.709677\n",
       "Musical      6.857143\n",
       "Mystery      6.503472\n",
       "Romance      6.577222\n",
       "Sci-Fi       6.652308\n",
       "Sport        6.966667\n",
       "Thriller     6.497992\n",
       "War          7.113636\n",
       "Western      6.877778\n",
       "Name: Movie Rating, dtype: float64"
      ]
     },
     "execution_count": 241,
     "metadata": {},
     "output_type": "execute_result"
    }
   ],
   "source": [
    "# avg ratings by genre\n",
    "avg_ratings_by_genre = split_data.groupby('Genre')['Movie Rating'].mean()\n",
    "avg_ratings_by_genre\n"
   ]
  },
  {
   "cell_type": "code",
   "execution_count": 242,
   "id": "8639ddf4",
   "metadata": {},
   "outputs": [
    {
     "data": {
      "text/plain": [
       "20"
      ]
     },
     "execution_count": 242,
     "metadata": {},
     "output_type": "execute_result"
    }
   ],
   "source": [
    "len(avg_ratings_by_genre)"
   ]
  },
  {
   "cell_type": "code",
   "execution_count": 243,
   "id": "a11d181f",
   "metadata": {},
   "outputs": [
    {
     "name": "stdout",
     "output_type": "stream",
     "text": [
      "Genre\n",
      "War          7.113636\n",
      "Biography    7.103008\n",
      "Sport        6.966667\n",
      "History      6.937500\n",
      "Western      6.877778\n",
      "Name: Movie Rating, dtype: float64\n"
     ]
    }
   ],
   "source": [
    "# Sort the DataFrame by average rating in descending order\n",
    "high_avg_ratings_by_genre = avg_ratings_by_genre.sort_values(ascending=False)\n",
    "\n",
    "# Get the top 5 genres with highest average rating\n",
    "top_5_genres = high_avg_ratings_by_genre.head()\n",
    "\n",
    "\n",
    "\n",
    "# Print the top 5 genres\n",
    "print(top_5_genres)"
   ]
  },
  {
   "cell_type": "code",
   "execution_count": 244,
   "id": "ff98132f",
   "metadata": {},
   "outputs": [
    {
     "name": "stdout",
     "output_type": "stream",
     "text": [
      "Genre\n",
      "Horror      6.167273\n",
      "Fantasy     6.290152\n",
      "Thriller    6.497992\n",
      "Comedy      6.501728\n",
      "Mystery     6.503472\n",
      "Name: Movie Rating, dtype: float64\n"
     ]
    }
   ],
   "source": [
    "low_avg_ratings_by_genre = avg_ratings_by_genre.sort_values(ascending=True)\n",
    "\n",
    "bottom_5_genres = low_avg_ratings_by_genre.head()\n",
    "\n",
    "print(bottom_5_genres)"
   ]
  },
  {
   "cell_type": "code",
   "execution_count": 245,
   "id": "5ae9af2c",
   "metadata": {},
   "outputs": [
    {
     "ename": "ValueError",
     "evalue": "could not convert string to float: \"Mother's Day\"",
     "output_type": "error",
     "traceback": [
      "\u001b[0;31m---------------------------------------------------------------------------\u001b[0m",
      "\u001b[0;31mValueError\u001b[0m                                Traceback (most recent call last)",
      "Cell \u001b[0;32mIn[245], line 1\u001b[0m\n\u001b[0;32m----> 1\u001b[0m correlation_matrix \u001b[38;5;241m=\u001b[39m \u001b[43msplit_data\u001b[49m\u001b[38;5;241;43m.\u001b[39;49m\u001b[43mcorr\u001b[49m\u001b[43m(\u001b[49m\u001b[43m)\u001b[49m\n\u001b[1;32m      2\u001b[0m rating_correlation \u001b[38;5;241m=\u001b[39m correlation_matrix[\u001b[38;5;124m'\u001b[39m\u001b[38;5;124mMovie Rating\u001b[39m\u001b[38;5;124m'\u001b[39m]\u001b[38;5;241m.\u001b[39msort_values(ascending\u001b[38;5;241m=\u001b[39m\u001b[38;5;28;01mFalse\u001b[39;00m)\n\u001b[1;32m      3\u001b[0m \u001b[38;5;28mprint\u001b[39m(rating_correlation)\n",
      "File \u001b[0;32m~/anaconda3/envs/dev/lib/python3.10/site-packages/pandas/core/frame.py:10704\u001b[0m, in \u001b[0;36mDataFrame.corr\u001b[0;34m(self, method, min_periods, numeric_only)\u001b[0m\n\u001b[1;32m  10702\u001b[0m cols \u001b[38;5;241m=\u001b[39m data\u001b[38;5;241m.\u001b[39mcolumns\n\u001b[1;32m  10703\u001b[0m idx \u001b[38;5;241m=\u001b[39m cols\u001b[38;5;241m.\u001b[39mcopy()\n\u001b[0;32m> 10704\u001b[0m mat \u001b[38;5;241m=\u001b[39m \u001b[43mdata\u001b[49m\u001b[38;5;241;43m.\u001b[39;49m\u001b[43mto_numpy\u001b[49m\u001b[43m(\u001b[49m\u001b[43mdtype\u001b[49m\u001b[38;5;241;43m=\u001b[39;49m\u001b[38;5;28;43mfloat\u001b[39;49m\u001b[43m,\u001b[49m\u001b[43m \u001b[49m\u001b[43mna_value\u001b[49m\u001b[38;5;241;43m=\u001b[39;49m\u001b[43mnp\u001b[49m\u001b[38;5;241;43m.\u001b[39;49m\u001b[43mnan\u001b[49m\u001b[43m,\u001b[49m\u001b[43m \u001b[49m\u001b[43mcopy\u001b[49m\u001b[38;5;241;43m=\u001b[39;49m\u001b[38;5;28;43;01mFalse\u001b[39;49;00m\u001b[43m)\u001b[49m\n\u001b[1;32m  10706\u001b[0m \u001b[38;5;28;01mif\u001b[39;00m method \u001b[38;5;241m==\u001b[39m \u001b[38;5;124m\"\u001b[39m\u001b[38;5;124mpearson\u001b[39m\u001b[38;5;124m\"\u001b[39m:\n\u001b[1;32m  10707\u001b[0m     correl \u001b[38;5;241m=\u001b[39m libalgos\u001b[38;5;241m.\u001b[39mnancorr(mat, minp\u001b[38;5;241m=\u001b[39mmin_periods)\n",
      "File \u001b[0;32m~/anaconda3/envs/dev/lib/python3.10/site-packages/pandas/core/frame.py:1889\u001b[0m, in \u001b[0;36mDataFrame.to_numpy\u001b[0;34m(self, dtype, copy, na_value)\u001b[0m\n\u001b[1;32m   1887\u001b[0m \u001b[38;5;28;01mif\u001b[39;00m dtype \u001b[38;5;129;01mis\u001b[39;00m \u001b[38;5;129;01mnot\u001b[39;00m \u001b[38;5;28;01mNone\u001b[39;00m:\n\u001b[1;32m   1888\u001b[0m     dtype \u001b[38;5;241m=\u001b[39m np\u001b[38;5;241m.\u001b[39mdtype(dtype)\n\u001b[0;32m-> 1889\u001b[0m result \u001b[38;5;241m=\u001b[39m \u001b[38;5;28;43mself\u001b[39;49m\u001b[38;5;241;43m.\u001b[39;49m\u001b[43m_mgr\u001b[49m\u001b[38;5;241;43m.\u001b[39;49m\u001b[43mas_array\u001b[49m\u001b[43m(\u001b[49m\u001b[43mdtype\u001b[49m\u001b[38;5;241;43m=\u001b[39;49m\u001b[43mdtype\u001b[49m\u001b[43m,\u001b[49m\u001b[43m \u001b[49m\u001b[43mcopy\u001b[49m\u001b[38;5;241;43m=\u001b[39;49m\u001b[43mcopy\u001b[49m\u001b[43m,\u001b[49m\u001b[43m \u001b[49m\u001b[43mna_value\u001b[49m\u001b[38;5;241;43m=\u001b[39;49m\u001b[43mna_value\u001b[49m\u001b[43m)\u001b[49m\n\u001b[1;32m   1890\u001b[0m \u001b[38;5;28;01mif\u001b[39;00m result\u001b[38;5;241m.\u001b[39mdtype \u001b[38;5;129;01mis\u001b[39;00m \u001b[38;5;129;01mnot\u001b[39;00m dtype:\n\u001b[1;32m   1891\u001b[0m     result \u001b[38;5;241m=\u001b[39m np\u001b[38;5;241m.\u001b[39marray(result, dtype\u001b[38;5;241m=\u001b[39mdtype, copy\u001b[38;5;241m=\u001b[39m\u001b[38;5;28;01mFalse\u001b[39;00m)\n",
      "File \u001b[0;32m~/anaconda3/envs/dev/lib/python3.10/site-packages/pandas/core/internals/managers.py:1656\u001b[0m, in \u001b[0;36mBlockManager.as_array\u001b[0;34m(self, dtype, copy, na_value)\u001b[0m\n\u001b[1;32m   1654\u001b[0m         arr\u001b[38;5;241m.\u001b[39mflags\u001b[38;5;241m.\u001b[39mwriteable \u001b[38;5;241m=\u001b[39m \u001b[38;5;28;01mFalse\u001b[39;00m\n\u001b[1;32m   1655\u001b[0m \u001b[38;5;28;01melse\u001b[39;00m:\n\u001b[0;32m-> 1656\u001b[0m     arr \u001b[38;5;241m=\u001b[39m \u001b[38;5;28;43mself\u001b[39;49m\u001b[38;5;241;43m.\u001b[39;49m\u001b[43m_interleave\u001b[49m\u001b[43m(\u001b[49m\u001b[43mdtype\u001b[49m\u001b[38;5;241;43m=\u001b[39;49m\u001b[43mdtype\u001b[49m\u001b[43m,\u001b[49m\u001b[43m \u001b[49m\u001b[43mna_value\u001b[49m\u001b[38;5;241;43m=\u001b[39;49m\u001b[43mna_value\u001b[49m\u001b[43m)\u001b[49m\n\u001b[1;32m   1657\u001b[0m     \u001b[38;5;66;03m# The underlying data was copied within _interleave, so no need\u001b[39;00m\n\u001b[1;32m   1658\u001b[0m     \u001b[38;5;66;03m# to further copy if copy=True or setting na_value\u001b[39;00m\n\u001b[1;32m   1660\u001b[0m \u001b[38;5;28;01mif\u001b[39;00m na_value \u001b[38;5;129;01mis\u001b[39;00m lib\u001b[38;5;241m.\u001b[39mno_default:\n",
      "File \u001b[0;32m~/anaconda3/envs/dev/lib/python3.10/site-packages/pandas/core/internals/managers.py:1715\u001b[0m, in \u001b[0;36mBlockManager._interleave\u001b[0;34m(self, dtype, na_value)\u001b[0m\n\u001b[1;32m   1713\u001b[0m     \u001b[38;5;28;01melse\u001b[39;00m:\n\u001b[1;32m   1714\u001b[0m         arr \u001b[38;5;241m=\u001b[39m blk\u001b[38;5;241m.\u001b[39mget_values(dtype)\n\u001b[0;32m-> 1715\u001b[0m     result[rl\u001b[38;5;241m.\u001b[39mindexer] \u001b[38;5;241m=\u001b[39m arr\n\u001b[1;32m   1716\u001b[0m     itemmask[rl\u001b[38;5;241m.\u001b[39mindexer] \u001b[38;5;241m=\u001b[39m \u001b[38;5;241m1\u001b[39m\n\u001b[1;32m   1718\u001b[0m \u001b[38;5;28;01mif\u001b[39;00m \u001b[38;5;129;01mnot\u001b[39;00m itemmask\u001b[38;5;241m.\u001b[39mall():\n",
      "\u001b[0;31mValueError\u001b[0m: could not convert string to float: \"Mother's Day\""
     ]
    }
   ],
   "source": [
    "correlation_matrix = split_data.corr()\n",
    "rating_correlation = correlation_matrix['Movie Rating'].sort_values(ascending=False)\n",
    "print(rating_correlation)"
   ]
  },
  {
   "cell_type": "code",
   "execution_count": null,
   "id": "d5258def",
   "metadata": {},
   "outputs": [],
   "source": [
    "# Example of a scatter plot\n",
    "sns.scatterplot(x='Vote Count', y='Movie Rating', data=split_data)\n",
    "plt.show()"
   ]
  },
  {
   "cell_type": "code",
   "execution_count": null,
   "id": "0ba4b0a7",
   "metadata": {},
   "outputs": [],
   "source": [
    "votes = split_data[\"Vote Count\"]\n",
    "movie_rating = split_data[\"Movie Rating\"]\n",
    "\n",
    "x_values = votes\n",
    "y_values = movie_rating\n",
    "\n",
    "(slope, intercept, rvalue, pvalue, stderr) = linregress(x_values, y_values)\n",
    "regress_values = x_values * slope + intercept\n",
    "line_eq = \"y = \" + str(round(slope,2)) + \"x + \" + str(round(intercept,2))\n",
    "plt.scatter(x_values,y_values)\n",
    "plt.plot(x_values,regress_values,\"r-\")\n",
    "plt.annotate(line_eq,(-20,0.8),fontsize=15,color=\"red\")\n",
    "plt.xlabel(\"Vote Count\")\n",
    "plt.ylabel('Movie Rating')\n",
    "print(f\"The r-squared is: {rvalue**2}\")\n",
    "plt.show()"
   ]
  },
  {
   "cell_type": "code",
   "execution_count": null,
   "id": "cc05322e",
   "metadata": {},
   "outputs": [],
   "source": [
    "plt.scatter(split_data[\"Vote Count\"], split_data[\"Movie Rating\"], marker=\"o\", facecolors=\"g\", edgecolors=\"black\")\n",
    "\n",
    "# Incorporate the other graph properties\n",
    "plt.xlabel(\"Vote Count\")\n",
    "plt.ylabel(\"Movie Rating)\")\n",
    "plt.title(\"Vote Count vs Movie Rating\")\n",
    "plt.grid(True) \n",
    "plt.tight_layout()\n",
    "plt.show()"
   ]
  },
  {
   "cell_type": "code",
   "execution_count": null,
   "id": "efc4ff87",
   "metadata": {},
   "outputs": [],
   "source": [
    "\n",
    "# # Create an empty DataFrame to store the results\n",
    "# result_df = pd.DataFrame()\n",
    "\n",
    "# # Iterate over the top 6 genres\n",
    "# for genre in top_6_genres:\n",
    "#     # Filter DataFrame for the current genre\n",
    "#     genre_df = split_data[split_data['Genre'] == genre]\n",
    "    \n",
    "#     # Group by 'Year' and count the number of ratings\n",
    "#     genre_counts = genre_df.groupby('Year of Release')['Movie Rating'].count().reset_index()\n",
    "    \n",
    "#     # Rename the count column to the genre name\n",
    "#     genre_counts.rename(columns={'Rating': genre}, inplace=True)\n",
    "    \n",
    "#     # Merge the counts into the result DataFrame\n",
    "#     result_df = pd.merge(result_df, genre_counts, on='Year of Release', how='outer')\n",
    "\n",
    "# # Fill NaN values with 0\n",
    "# result_df.fillna(0, inplace=True)\n",
    "\n",
    "# # Display the result\n",
    "# print(result_df)"
   ]
  },
  {
   "cell_type": "code",
   "execution_count": null,
   "id": "5680e6ec",
   "metadata": {},
   "outputs": [],
   "source": [
    "# genre = filtered_df[\"Genre\"]\n",
    "# avg_ratings_by_genre = avg_ratings_by_genre\n",
    "\n",
    "# For each top 6 genre, find the number of movie ratings per year\n",
    "for genre in top_6_genres:\n",
    "    # Filter the DataFrame for the specific genre\n",
    "    genre_ratings = split_data[split_data['Genre'] == genre]\n",
    "\n",
    "    # Group the genre ratings by year and count the number of ratings for each year\n",
    "    ratings_per_year = genre_ratings.groupby('Year of Release')['Movie Name'].count()\n",
    "\n",
    "    # Print the results for the current genre\n",
    "    print(f\"Genre: {genre}\")\n",
    "    print(ratings_per_year)"
   ]
  },
  {
   "cell_type": "code",
   "execution_count": null,
   "id": "981054b7",
   "metadata": {},
   "outputs": [],
   "source": [
    "# # Get the top 6 genres by count\n",
    "# top_genres = split_data['Genre'].value_counts().index[:6]\n",
    "\n",
    "# # Initialize dictionary to store counts \n",
    "# genre_counts = {genre: {year: 0 for year in range(min(split_data['Year of Release']),\n",
    "#                                                   max(split_data['Year of Release'])+1)} for genre in top_genres}\n",
    "\n",
    "# # Iterate through the data\n",
    "# for i, row in split_data.iterrows():\n",
    "#     if row['Genre'] in top_genres:\n",
    "#         genre_counts[row['Genre']][row['Year of Release']] += 1\n",
    "        \n",
    "# # Print results\n",
    "# for genre, counts in genre_counts.items():\n",
    "#     print(genre)\n",
    "#     print(counts)\n",
    "#     print()"
   ]
  },
  {
   "cell_type": "code",
   "execution_count": null,
   "id": "b5adafb3",
   "metadata": {},
   "outputs": [],
   "source": [
    "genre = filtered_df[\"Genre\"]\n",
    "avg_ratings_by_genre = avg_ratings_by_genre"
   ]
  },
  {
   "cell_type": "code",
   "execution_count": 263,
   "id": "44d8e90f",
   "metadata": {},
   "outputs": [
    {
     "ename": "TypeError",
     "evalue": "DataFrame.sort_values() missing 1 required positional argument: 'by'",
     "output_type": "error",
     "traceback": [
      "\u001b[0;31m---------------------------------------------------------------------------\u001b[0m",
      "\u001b[0;31mTypeError\u001b[0m                                 Traceback (most recent call last)",
      "Cell \u001b[0;32mIn[263], line 5\u001b[0m\n\u001b[1;32m      3\u001b[0m \u001b[38;5;66;03m# Group by 'Genre' and calculate total votes and average rating\u001b[39;00m\n\u001b[1;32m      4\u001b[0m genre_stats \u001b[38;5;241m=\u001b[39m split_data\u001b[38;5;241m.\u001b[39mgroupby(\u001b[38;5;124m'\u001b[39m\u001b[38;5;124mGenre\u001b[39m\u001b[38;5;124m'\u001b[39m)\u001b[38;5;241m.\u001b[39magg({\u001b[38;5;124m'\u001b[39m\u001b[38;5;124mVote Count\u001b[39m\u001b[38;5;124m'\u001b[39m: \u001b[38;5;124m'\u001b[39m\u001b[38;5;124msum\u001b[39m\u001b[38;5;124m'\u001b[39m, \u001b[38;5;124m'\u001b[39m\u001b[38;5;124mMovie Rating\u001b[39m\u001b[38;5;124m'\u001b[39m: \u001b[38;5;124m'\u001b[39m\u001b[38;5;124mmean\u001b[39m\u001b[38;5;124m'\u001b[39m})\u001b[38;5;241m.\u001b[39mrename(columns\u001b[38;5;241m=\u001b[39m{\u001b[38;5;124m'\u001b[39m\u001b[38;5;124mVote Count\u001b[39m\u001b[38;5;124m'\u001b[39m: \u001b[38;5;124m'\u001b[39m\u001b[38;5;124mTotal Votes\u001b[39m\u001b[38;5;124m'\u001b[39m, \u001b[38;5;124m'\u001b[39m\u001b[38;5;124mMovie Rating\u001b[39m\u001b[38;5;124m'\u001b[39m: \u001b[38;5;124m'\u001b[39m\u001b[38;5;124mAverage Rating\u001b[39m\u001b[38;5;124m'\u001b[39m})\n\u001b[0;32m----> 5\u001b[0m \u001b[43mgenre_stats\u001b[49m\u001b[38;5;241;43m.\u001b[39;49m\u001b[43msort_values\u001b[49m\u001b[43m(\u001b[49m\u001b[43mascending\u001b[49m\u001b[38;5;241;43m=\u001b[39;49m\u001b[38;5;28;43;01mTrue\u001b[39;49;00m\u001b[43m)\u001b[49m\n\u001b[1;32m      6\u001b[0m \u001b[38;5;66;03m# Display the result\u001b[39;00m\n\u001b[1;32m      7\u001b[0m \u001b[38;5;28mprint\u001b[39m(genre_stats)\n",
      "\u001b[0;31mTypeError\u001b[0m: DataFrame.sort_values() missing 1 required positional argument: 'by'"
     ]
    }
   ],
   "source": [
    "\n",
    "split_data = pd.DataFrame(split_data)\n",
    "\n",
    "# Group by 'Genre' and calculate total votes and average rating\n",
    "genre_stats = split_data.groupby('Genre').agg({'Vote Count': 'sum', 'Movie Rating': 'mean'}).rename(columns={'Vote Count': 'Total Votes', 'Movie Rating': 'Average Rating'})\n",
    "genre_stats.sort_values(ascending=True)\n",
    "# Display the result\n",
    "print(genre_stats)\n"
   ]
  },
  {
   "cell_type": "code",
   "execution_count": 246,
   "id": "6265b013",
   "metadata": {},
   "outputs": [
    {
     "data": {
      "image/png": "[encoded data removed]",
      "text/plain": [
       "<Figure size 2000x350 with 1 Axes>"
      ]
     },
     "metadata": {},
     "output_type": "display_data"
    },
    {
     "data": {
      "text/plain": [
       "<Figure size 640x480 with 0 Axes>"
      ]
     },
     "metadata": {},
     "output_type": "display_data"
    }
   ],
   "source": [
    "# Barchart of avg ratings by genre\n",
    "avg_ratings_by_genre.plot(kind=\"bar\", figsize=(20,3.5), title = \"Average Ratings by Genre\")\n",
    "\n",
    "\n",
    "plt.show()\n",
    "plt.tight_layout()"
   ]
  },
  {
   "cell_type": "code",
   "execution_count": 247,
   "id": "1bae38e1",
   "metadata": {},
   "outputs": [
    {
     "data": {
      "image/png": "[encoded data removed]",
      "text/plain": [
       "<Figure size 640x480 with 1 Axes>"
      ]
     },
     "metadata": {},
     "output_type": "display_data"
    }
   ],
   "source": [
    "# scatterplot of avg ratings by genre\n",
    "plt.scatter(split_data[\"Genre\"], split_data[\"Movie Rating\"], marker=\"o\",\n",
    "            facecolors=\"b\", edgecolors = \"black\")\n",
    "\n",
    "# Incorporate the other graph properties\n",
    "plt.xlabel(\"Genre\")\n",
    "plt.ylabel(\"Movie Rating\")\n",
    "plt.title(\"Genre/ Movie Rating Plot\")\n",
    "plt.xticks(rotation=90)\n",
    "plt.grid(True) \n",
    "plt.tight_layout()\n"
   ]
  },
  {
   "cell_type": "code",
   "execution_count": 249,
   "id": "754728a8",
   "metadata": {},
   "outputs": [
    {
     "name": "stdout",
     "output_type": "stream",
     "text": [
      "T-statistic: 6.138704620681161, P-value: 4.954487594422939e-09\n"
     ]
    }
   ],
   "source": [
    "war_ratings = split_data[split_data['Genre'] == 'War']['Movie Rating']\n",
    "horror_ratings = split_data[split_data['Genre'] == 'Horror']['Movie Rating']\n",
    "\n",
    "t_stat, p_value = ttest_ind(war_ratings, horror_ratings)\n",
    "print(f\"T-statistic: {t_stat}, P-value: {p_value}\")\n"
   ]
  },
  {
   "cell_type": "code",
   "execution_count": null,
   "id": "4cf9dba4",
   "metadata": {},
   "outputs": [],
   "source": []
  }
 ],
 "metadata": {
  "kernelspec": {
   "display_name": "Python 3 (ipykernel)",
   "language": "python",
   "name": "python3"
  },
  "language_info": {
   "codemirror_mode": {
    "name": "ipython",
    "version": 3
   },
   "file_extension": ".py",
   "mimetype": "text/x-python",
   "name": "python",
   "nbconvert_exporter": "python",
   "pygments_lexer": "ipython3",
   "version": "3.10.13"
  }
 },
 "nbformat": 4,
 "nbformat_minor": 5
}
